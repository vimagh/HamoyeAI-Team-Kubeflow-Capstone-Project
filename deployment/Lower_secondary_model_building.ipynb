{
 "cells": [
  {
   "cell_type": "markdown",
   "id": "d82f9f20",
   "metadata": {
    "id": "d82f9f20"
   },
   "source": [
    "# Operations Perfomed:\n",
    "> 1. Reading in the Lower secondary school data\n",
    "> 2. Rescaling the data to prevent data redundancy and to get optimal model performance\n",
    "> 3. Hypertuning of models' performance for optimal model perfomance\n",
    "> 4. Model building on the training datasets, evaluation on the testing sets using various regression techniques such as: Linear, Ridge, Lasso, and Gradient boost regression\n",
    "> 5. Evaluation of models using various metrics in regression such as mean_absolute_error, mean_squared_error root_mean_squared_error, r2_score, residual_sum of squares to evaluate model performance\n",
    "> 6. Performed comparison on the model between the actual values and the predicted values\n",
    "\n",
    "\n"
   ]
  },
  {
   "cell_type": "code",
   "execution_count": 1,
   "id": "2bcd8f94",
   "metadata": {
    "id": "2bcd8f94"
   },
   "outputs": [],
   "source": [
    "import pandas as pd\n",
    "import pickle\n",
    "import numpy as np\n",
    "import seaborn as sns\n",
    "import matplotlib.pyplot as plt\n",
    "from sklearn.model_selection import GridSearchCV\n",
    "from sklearn.linear_model import LinearRegression, Ridge, Lasso\n",
    "from sklearn.neighbors import KNeighborsRegressor\n",
    "from sklearn.tree import DecisionTreeRegressor\n",
    "from sklearn.preprocessing import MinMaxScaler\n",
    "from sklearn.model_selection import train_test_split\n",
    "from sklearn.metrics import mean_absolute_error\n",
    "from sklearn.metrics import mean_squared_error\n",
    "from sklearn.metrics import r2_score\n",
    "import warnings\n",
    "warnings.filterwarnings('ignore')\n"
   ]
  },
  {
   "cell_type": "code",
   "execution_count": 82,
   "id": "984d2d2b",
   "metadata": {
    "id": "984d2d2b"
   },
   "outputs": [],
   "source": [
    "df= pd.read_csv(r'Scaled_Lower_Secondary.csv_')"
   ]
  },
  {
   "cell_type": "code",
   "execution_count": 83,
   "id": "4aea929d",
   "metadata": {
    "colab": {
     "base_uri": "https://localhost:8080/",
     "height": 302
    },
    "id": "4aea929d",
    "outputId": "a6314982-61bd-4709-86b4-7ab7bb6187e3"
   },
   "outputs": [
    {
     "data": {
      "text/html": [
       "<div>\n",
       "<style scoped>\n",
       "    .dataframe tbody tr th:only-of-type {\n",
       "        vertical-align: middle;\n",
       "    }\n",
       "\n",
       "    .dataframe tbody tr th {\n",
       "        vertical-align: top;\n",
       "    }\n",
       "\n",
       "    .dataframe thead th {\n",
       "        text-align: right;\n",
       "    }\n",
       "</style>\n",
       "<table border=\"1\" class=\"dataframe\">\n",
       "  <thead>\n",
       "    <tr style=\"text-align: right;\">\n",
       "      <th></th>\n",
       "      <th>Year</th>\n",
       "      <th>Completion Rate for lower secondary Edu</th>\n",
       "      <th>Childhood Education GER</th>\n",
       "      <th>Gross enrolment ratio, early childhood educational development programmes</th>\n",
       "      <th>Gross intake ratio to the last grade of lower secondary general education,</th>\n",
       "      <th>Literacy rate for 25-64 years old</th>\n",
       "      <th>Expenditure on education as a percentage of total government expenditure (%)</th>\n",
       "      <th>Government expenditure on education as a percentage of GDP (%)</th>\n",
       "      <th>Central Asia</th>\n",
       "      <th>Central and Southern Asia</th>\n",
       "      <th>Eastern and South-Eastern Asia</th>\n",
       "      <th>Europe and Northern America</th>\n",
       "      <th>Latin America and the Caribbean</th>\n",
       "      <th>Northern Africa and Western Asia</th>\n",
       "      <th>Oceania</th>\n",
       "      <th>Southern Asia</th>\n",
       "      <th>Sub-Saharan Africa</th>\n",
       "      <th>Gender_numerical</th>\n",
       "    </tr>\n",
       "  </thead>\n",
       "  <tbody>\n",
       "    <tr>\n",
       "      <th>0</th>\n",
       "      <td>2012</td>\n",
       "      <td>99.6</td>\n",
       "      <td>47.379975</td>\n",
       "      <td>5.868056</td>\n",
       "      <td>96.64</td>\n",
       "      <td>68.735</td>\n",
       "      <td>19.25</td>\n",
       "      <td>3.90</td>\n",
       "      <td>1.0</td>\n",
       "      <td>0.0</td>\n",
       "      <td>0.0</td>\n",
       "      <td>0.0</td>\n",
       "      <td>0.0</td>\n",
       "      <td>0.0</td>\n",
       "      <td>0.0</td>\n",
       "      <td>0.0</td>\n",
       "      <td>0.0</td>\n",
       "      <td>1</td>\n",
       "    </tr>\n",
       "    <tr>\n",
       "      <th>1</th>\n",
       "      <td>2012</td>\n",
       "      <td>99.3</td>\n",
       "      <td>47.379975</td>\n",
       "      <td>5.868056</td>\n",
       "      <td>97.66</td>\n",
       "      <td>68.735</td>\n",
       "      <td>19.25</td>\n",
       "      <td>3.90</td>\n",
       "      <td>1.0</td>\n",
       "      <td>0.0</td>\n",
       "      <td>0.0</td>\n",
       "      <td>0.0</td>\n",
       "      <td>0.0</td>\n",
       "      <td>0.0</td>\n",
       "      <td>0.0</td>\n",
       "      <td>0.0</td>\n",
       "      <td>0.0</td>\n",
       "      <td>0</td>\n",
       "    </tr>\n",
       "    <tr>\n",
       "      <th>2</th>\n",
       "      <td>2013</td>\n",
       "      <td>99.6</td>\n",
       "      <td>47.379975</td>\n",
       "      <td>5.868056</td>\n",
       "      <td>103.13</td>\n",
       "      <td>68.735</td>\n",
       "      <td>17.96</td>\n",
       "      <td>3.44</td>\n",
       "      <td>1.0</td>\n",
       "      <td>0.0</td>\n",
       "      <td>0.0</td>\n",
       "      <td>0.0</td>\n",
       "      <td>0.0</td>\n",
       "      <td>0.0</td>\n",
       "      <td>0.0</td>\n",
       "      <td>0.0</td>\n",
       "      <td>0.0</td>\n",
       "      <td>1</td>\n",
       "    </tr>\n",
       "  </tbody>\n",
       "</table>\n",
       "</div>"
      ],
      "text/plain": [
       "   Year  Completion Rate for lower secondary Edu  Childhood Education GER  \\\n",
       "0  2012                                     99.6                47.379975   \n",
       "1  2012                                     99.3                47.379975   \n",
       "2  2013                                     99.6                47.379975   \n",
       "\n",
       "   Gross enrolment ratio, early childhood educational development programmes  \\\n",
       "0                                           5.868056                           \n",
       "1                                           5.868056                           \n",
       "2                                           5.868056                           \n",
       "\n",
       "   Gross intake ratio to the last grade of lower secondary general education,  \\\n",
       "0                                              96.64                            \n",
       "1                                              97.66                            \n",
       "2                                             103.13                            \n",
       "\n",
       "   Literacy rate for 25-64 years old  \\\n",
       "0                             68.735   \n",
       "1                             68.735   \n",
       "2                             68.735   \n",
       "\n",
       "   Expenditure on education as a percentage of total government expenditure (%)  \\\n",
       "0                                              19.25                              \n",
       "1                                              19.25                              \n",
       "2                                              17.96                              \n",
       "\n",
       "   Government expenditure on education as a percentage of GDP (%)  \\\n",
       "0                                               3.90                \n",
       "1                                               3.90                \n",
       "2                                               3.44                \n",
       "\n",
       "   Central Asia  Central and Southern Asia  Eastern and South-Eastern Asia  \\\n",
       "0           1.0                        0.0                             0.0   \n",
       "1           1.0                        0.0                             0.0   \n",
       "2           1.0                        0.0                             0.0   \n",
       "\n",
       "   Europe and Northern America  Latin America and the Caribbean  \\\n",
       "0                          0.0                              0.0   \n",
       "1                          0.0                              0.0   \n",
       "2                          0.0                              0.0   \n",
       "\n",
       "   Northern Africa and Western Asia  Oceania  Southern Asia  \\\n",
       "0                               0.0      0.0            0.0   \n",
       "1                               0.0      0.0            0.0   \n",
       "2                               0.0      0.0            0.0   \n",
       "\n",
       "   Sub-Saharan Africa  Gender_numerical  \n",
       "0                 0.0                 1  \n",
       "1                 0.0                 0  \n",
       "2                 0.0                 1  "
      ]
     },
     "execution_count": 83,
     "metadata": {},
     "output_type": "execute_result"
    }
   ],
   "source": [
    "df.head(3)"
   ]
  },
  {
   "cell_type": "code",
   "execution_count": 84,
   "id": "5cf7fa5c",
   "metadata": {},
   "outputs": [],
   "source": [
    "df.rename(columns = {'Childhood Education GER':'Childhood_Education_GER', 'Gross enrolment ratio, early childhood educational development programmes':'Gross_enrolment_ratio_early_childhood_educational_development_programmes', \n",
    "                    'Gross intake ratio to the last grade of lower secondary general education,':'Gross_intake_ratio_to_the_last_grade_of_lower_secondary_general_education',\n",
    "                    'Literacy rate for 25-64 years old':'Literacy_rate_for_25_64_years_old', 'Expenditure on education as a percentage of total government expenditure (%)':'Expenditure_on_education_as_a_percentage_of_total_government_expenditure',\n",
    "                    'Government expenditure on education as a percentage of GDP (%)':'Government_expenditure_on_education_as_a_percentage_of_GDP',\n",
    "                    'Central Asia':'Central_Asia', 'Central and Southern Asia':'Central_and_Southern_Asia', 'Eastern and South-Eastern Asia':'Eastern_and_South_Eastern_Asia',\n",
    "                    'Europe and Northern America':'Europe_and_Northern_America', 'Latin America and the Caribbean':'Latin_America_and_the_Caribbean',\n",
    "                    'Northern Africa and Western Asia':'Northern_Africa_and_Western_Asia', 'Oceania':'Oceania', 'Southern Asia': 'Southern_Asia', 'Sub-Saharan_Africa':'Sub_Saharan_Africa','Gender_numerical':'Gender_numerical'}, inplace = True)"
   ]
  },
  {
   "cell_type": "code",
   "execution_count": 85,
   "id": "2b657506",
   "metadata": {},
   "outputs": [
    {
     "name": "stdout",
     "output_type": "stream",
     "text": [
      "<class 'pandas.core.frame.DataFrame'>\n",
      "RangeIndex: 1872 entries, 0 to 1871\n",
      "Data columns (total 18 columns):\n",
      " #   Column                                                                     Non-Null Count  Dtype  \n",
      "---  ------                                                                     --------------  -----  \n",
      " 0   Year                                                                       1872 non-null   int64  \n",
      " 1   Completion Rate for lower secondary Edu                                    1872 non-null   float64\n",
      " 2   Childhood_Education_GER                                                    1872 non-null   float64\n",
      " 3   Gross_enrolment_ratio_early_childhood_educational_development_programmes   1872 non-null   float64\n",
      " 4   Gross_intake_ratio_to_the_last_grade_of_lower_secondary_general_education  1872 non-null   float64\n",
      " 5   Literacy_rate_for_25_64_years_old                                          1872 non-null   float64\n",
      " 6   Expenditure_on_education_as_a_percentage_of_total_government_expenditure   1872 non-null   float64\n",
      " 7   Government_expenditure_on_education_as_a_percentage_of_GDP                 1872 non-null   float64\n",
      " 8   Central_Asia                                                               1872 non-null   float64\n",
      " 9   Central_and_Southern_Asia                                                  1872 non-null   float64\n",
      " 10  Eastern_and_South_Eastern_Asia                                             1872 non-null   float64\n",
      " 11  Europe_and_Northern_America                                                1872 non-null   float64\n",
      " 12  Latin_America_and_the_Caribbean                                            1872 non-null   float64\n",
      " 13  Northern_Africa_and_Western_Asia                                           1872 non-null   float64\n",
      " 14  Oceania                                                                    1872 non-null   float64\n",
      " 15  Southern_Asia                                                              1872 non-null   float64\n",
      " 16  Sub-Saharan Africa                                                         1872 non-null   float64\n",
      " 17  Gender_numerical                                                           1872 non-null   int64  \n",
      "dtypes: float64(16), int64(2)\n",
      "memory usage: 263.4 KB\n"
     ]
    }
   ],
   "source": [
    "df.info()"
   ]
  },
  {
   "cell_type": "code",
   "execution_count": 123,
   "id": "243a0d75",
   "metadata": {},
   "outputs": [],
   "source": [
    "dff = df.drop(['Gross_intake_ratio_to_the_last_grade_of_lower_secondary_general_education'], axis = 1)"
   ]
  },
  {
   "cell_type": "markdown",
   "id": "aac164bb",
   "metadata": {
    "id": "aac164bb"
   },
   "source": [
    "## Data Transformation\n",
    "\n",
    "#### 1. Data Rescaling"
   ]
  },
  {
   "cell_type": "code",
   "execution_count": 86,
   "id": "98b3c077",
   "metadata": {
    "colab": {
     "base_uri": "https://localhost:8080/",
     "height": 396
    },
    "id": "98b3c077",
    "outputId": "f5a5c935-34ed-49b5-9fe1-fe3e2ffb2d06"
   },
   "outputs": [
    {
     "data": {
      "text/html": [
       "<div>\n",
       "<style scoped>\n",
       "    .dataframe tbody tr th:only-of-type {\n",
       "        vertical-align: middle;\n",
       "    }\n",
       "\n",
       "    .dataframe tbody tr th {\n",
       "        vertical-align: top;\n",
       "    }\n",
       "\n",
       "    .dataframe thead th {\n",
       "        text-align: right;\n",
       "    }\n",
       "</style>\n",
       "<table border=\"1\" class=\"dataframe\">\n",
       "  <thead>\n",
       "    <tr style=\"text-align: right;\">\n",
       "      <th></th>\n",
       "      <th>Completion Rate for lower secondary Edu</th>\n",
       "      <th>Childhood_Education_GER</th>\n",
       "      <th>Gross_enrolment_ratio_early_childhood_educational_development_programmes</th>\n",
       "      <th>Gross_intake_ratio_to_the_last_grade_of_lower_secondary_general_education</th>\n",
       "      <th>Literacy_rate_for_25_64_years_old</th>\n",
       "      <th>Expenditure_on_education_as_a_percentage_of_total_government_expenditure</th>\n",
       "      <th>Government_expenditure_on_education_as_a_percentage_of_GDP</th>\n",
       "      <th>Central_Asia</th>\n",
       "      <th>Central_and_Southern_Asia</th>\n",
       "      <th>Eastern_and_South_Eastern_Asia</th>\n",
       "      <th>Europe_and_Northern_America</th>\n",
       "      <th>Latin_America_and_the_Caribbean</th>\n",
       "      <th>Northern_Africa_and_Western_Asia</th>\n",
       "      <th>Oceania</th>\n",
       "      <th>Southern_Asia</th>\n",
       "      <th>Sub-Saharan Africa</th>\n",
       "      <th>Gender_numerical</th>\n",
       "    </tr>\n",
       "    <tr>\n",
       "      <th>Year</th>\n",
       "      <th></th>\n",
       "      <th></th>\n",
       "      <th></th>\n",
       "      <th></th>\n",
       "      <th></th>\n",
       "      <th></th>\n",
       "      <th></th>\n",
       "      <th></th>\n",
       "      <th></th>\n",
       "      <th></th>\n",
       "      <th></th>\n",
       "      <th></th>\n",
       "      <th></th>\n",
       "      <th></th>\n",
       "      <th></th>\n",
       "      <th></th>\n",
       "      <th></th>\n",
       "    </tr>\n",
       "  </thead>\n",
       "  <tbody>\n",
       "    <tr>\n",
       "      <th>2012</th>\n",
       "      <td>99.6</td>\n",
       "      <td>47.379975</td>\n",
       "      <td>5.868056</td>\n",
       "      <td>96.64</td>\n",
       "      <td>68.735</td>\n",
       "      <td>19.25</td>\n",
       "      <td>3.90</td>\n",
       "      <td>1.0</td>\n",
       "      <td>0.0</td>\n",
       "      <td>0.0</td>\n",
       "      <td>0.0</td>\n",
       "      <td>0.0</td>\n",
       "      <td>0.0</td>\n",
       "      <td>0.0</td>\n",
       "      <td>0.0</td>\n",
       "      <td>0.0</td>\n",
       "      <td>1</td>\n",
       "    </tr>\n",
       "    <tr>\n",
       "      <th>2012</th>\n",
       "      <td>99.3</td>\n",
       "      <td>47.379975</td>\n",
       "      <td>5.868056</td>\n",
       "      <td>97.66</td>\n",
       "      <td>68.735</td>\n",
       "      <td>19.25</td>\n",
       "      <td>3.90</td>\n",
       "      <td>1.0</td>\n",
       "      <td>0.0</td>\n",
       "      <td>0.0</td>\n",
       "      <td>0.0</td>\n",
       "      <td>0.0</td>\n",
       "      <td>0.0</td>\n",
       "      <td>0.0</td>\n",
       "      <td>0.0</td>\n",
       "      <td>0.0</td>\n",
       "      <td>0</td>\n",
       "    </tr>\n",
       "    <tr>\n",
       "      <th>2013</th>\n",
       "      <td>99.6</td>\n",
       "      <td>47.379975</td>\n",
       "      <td>5.868056</td>\n",
       "      <td>103.13</td>\n",
       "      <td>68.735</td>\n",
       "      <td>17.96</td>\n",
       "      <td>3.44</td>\n",
       "      <td>1.0</td>\n",
       "      <td>0.0</td>\n",
       "      <td>0.0</td>\n",
       "      <td>0.0</td>\n",
       "      <td>0.0</td>\n",
       "      <td>0.0</td>\n",
       "      <td>0.0</td>\n",
       "      <td>0.0</td>\n",
       "      <td>0.0</td>\n",
       "      <td>1</td>\n",
       "    </tr>\n",
       "    <tr>\n",
       "      <th>2013</th>\n",
       "      <td>99.4</td>\n",
       "      <td>47.379975</td>\n",
       "      <td>5.868056</td>\n",
       "      <td>102.95</td>\n",
       "      <td>68.735</td>\n",
       "      <td>17.96</td>\n",
       "      <td>3.44</td>\n",
       "      <td>1.0</td>\n",
       "      <td>0.0</td>\n",
       "      <td>0.0</td>\n",
       "      <td>0.0</td>\n",
       "      <td>0.0</td>\n",
       "      <td>0.0</td>\n",
       "      <td>0.0</td>\n",
       "      <td>0.0</td>\n",
       "      <td>0.0</td>\n",
       "      <td>0</td>\n",
       "    </tr>\n",
       "    <tr>\n",
       "      <th>2014</th>\n",
       "      <td>99.6</td>\n",
       "      <td>36.650000</td>\n",
       "      <td>0.000000</td>\n",
       "      <td>105.74</td>\n",
       "      <td>68.735</td>\n",
       "      <td>17.32</td>\n",
       "      <td>3.42</td>\n",
       "      <td>1.0</td>\n",
       "      <td>0.0</td>\n",
       "      <td>0.0</td>\n",
       "      <td>0.0</td>\n",
       "      <td>0.0</td>\n",
       "      <td>0.0</td>\n",
       "      <td>0.0</td>\n",
       "      <td>0.0</td>\n",
       "      <td>0.0</td>\n",
       "      <td>1</td>\n",
       "    </tr>\n",
       "  </tbody>\n",
       "</table>\n",
       "</div>"
      ],
      "text/plain": [
       "      Completion Rate for lower secondary Edu  Childhood_Education_GER  \\\n",
       "Year                                                                     \n",
       "2012                                     99.6                47.379975   \n",
       "2012                                     99.3                47.379975   \n",
       "2013                                     99.6                47.379975   \n",
       "2013                                     99.4                47.379975   \n",
       "2014                                     99.6                36.650000   \n",
       "\n",
       "      Gross_enrolment_ratio_early_childhood_educational_development_programmes  \\\n",
       "Year                                                                             \n",
       "2012                                           5.868056                          \n",
       "2012                                           5.868056                          \n",
       "2013                                           5.868056                          \n",
       "2013                                           5.868056                          \n",
       "2014                                           0.000000                          \n",
       "\n",
       "      Gross_intake_ratio_to_the_last_grade_of_lower_secondary_general_education  \\\n",
       "Year                                                                              \n",
       "2012                                              96.64                           \n",
       "2012                                              97.66                           \n",
       "2013                                             103.13                           \n",
       "2013                                             102.95                           \n",
       "2014                                             105.74                           \n",
       "\n",
       "      Literacy_rate_for_25_64_years_old  \\\n",
       "Year                                      \n",
       "2012                             68.735   \n",
       "2012                             68.735   \n",
       "2013                             68.735   \n",
       "2013                             68.735   \n",
       "2014                             68.735   \n",
       "\n",
       "      Expenditure_on_education_as_a_percentage_of_total_government_expenditure  \\\n",
       "Year                                                                             \n",
       "2012                                              19.25                          \n",
       "2012                                              19.25                          \n",
       "2013                                              17.96                          \n",
       "2013                                              17.96                          \n",
       "2014                                              17.32                          \n",
       "\n",
       "      Government_expenditure_on_education_as_a_percentage_of_GDP  \\\n",
       "Year                                                               \n",
       "2012                                               3.90            \n",
       "2012                                               3.90            \n",
       "2013                                               3.44            \n",
       "2013                                               3.44            \n",
       "2014                                               3.42            \n",
       "\n",
       "      Central_Asia  Central_and_Southern_Asia  Eastern_and_South_Eastern_Asia  \\\n",
       "Year                                                                            \n",
       "2012           1.0                        0.0                             0.0   \n",
       "2012           1.0                        0.0                             0.0   \n",
       "2013           1.0                        0.0                             0.0   \n",
       "2013           1.0                        0.0                             0.0   \n",
       "2014           1.0                        0.0                             0.0   \n",
       "\n",
       "      Europe_and_Northern_America  Latin_America_and_the_Caribbean  \\\n",
       "Year                                                                 \n",
       "2012                          0.0                              0.0   \n",
       "2012                          0.0                              0.0   \n",
       "2013                          0.0                              0.0   \n",
       "2013                          0.0                              0.0   \n",
       "2014                          0.0                              0.0   \n",
       "\n",
       "      Northern_Africa_and_Western_Asia  Oceania  Southern_Asia  \\\n",
       "Year                                                             \n",
       "2012                               0.0      0.0            0.0   \n",
       "2012                               0.0      0.0            0.0   \n",
       "2013                               0.0      0.0            0.0   \n",
       "2013                               0.0      0.0            0.0   \n",
       "2014                               0.0      0.0            0.0   \n",
       "\n",
       "      Sub-Saharan Africa  Gender_numerical  \n",
       "Year                                        \n",
       "2012                 0.0                 1  \n",
       "2012                 0.0                 0  \n",
       "2013                 0.0                 1  \n",
       "2013                 0.0                 0  \n",
       "2014                 0.0                 1  "
      ]
     },
     "execution_count": 86,
     "metadata": {},
     "output_type": "execute_result"
    }
   ],
   "source": [
    "# Data Rescaling\n",
    "\n",
    "data_col = df['Year']\n",
    "dff.set_index('Year',inplace =True)\n",
    "\n",
    "dff.head()\n"
   ]
  },
  {
   "cell_type": "code",
   "execution_count": 124,
   "id": "9aef0fbb",
   "metadata": {
    "colab": {
     "base_uri": "https://localhost:8080/",
     "height": 334
    },
    "id": "9aef0fbb",
    "outputId": "b813bbf0-5b92-4420-db84-fb3b0d8cefcf"
   },
   "outputs": [
    {
     "data": {
      "text/html": [
       "<div>\n",
       "<style scoped>\n",
       "    .dataframe tbody tr th:only-of-type {\n",
       "        vertical-align: middle;\n",
       "    }\n",
       "\n",
       "    .dataframe tbody tr th {\n",
       "        vertical-align: top;\n",
       "    }\n",
       "\n",
       "    .dataframe thead th {\n",
       "        text-align: right;\n",
       "    }\n",
       "</style>\n",
       "<table border=\"1\" class=\"dataframe\">\n",
       "  <thead>\n",
       "    <tr style=\"text-align: right;\">\n",
       "      <th></th>\n",
       "      <th>Completion Rate for lower secondary Edu</th>\n",
       "      <th>Childhood_Education_GER</th>\n",
       "      <th>Gross_enrolment_ratio_early_childhood_educational_development_programmes</th>\n",
       "      <th>Literacy_rate_for_25_64_years_old</th>\n",
       "      <th>Expenditure_on_education_as_a_percentage_of_total_government_expenditure</th>\n",
       "      <th>Government_expenditure_on_education_as_a_percentage_of_GDP</th>\n",
       "      <th>Central_Asia</th>\n",
       "      <th>Central_and_Southern_Asia</th>\n",
       "      <th>Eastern_and_South_Eastern_Asia</th>\n",
       "      <th>Europe_and_Northern_America</th>\n",
       "      <th>Latin_America_and_the_Caribbean</th>\n",
       "      <th>Northern_Africa_and_Western_Asia</th>\n",
       "      <th>Oceania</th>\n",
       "      <th>Southern_Asia</th>\n",
       "      <th>Sub-Saharan Africa</th>\n",
       "      <th>Gender_numerical</th>\n",
       "    </tr>\n",
       "    <tr>\n",
       "      <th>Year</th>\n",
       "      <th></th>\n",
       "      <th></th>\n",
       "      <th></th>\n",
       "      <th></th>\n",
       "      <th></th>\n",
       "      <th></th>\n",
       "      <th></th>\n",
       "      <th></th>\n",
       "      <th></th>\n",
       "      <th></th>\n",
       "      <th></th>\n",
       "      <th></th>\n",
       "      <th></th>\n",
       "      <th></th>\n",
       "      <th></th>\n",
       "      <th></th>\n",
       "    </tr>\n",
       "  </thead>\n",
       "  <tbody>\n",
       "    <tr>\n",
       "      <th>2012</th>\n",
       "      <td>0.995830</td>\n",
       "      <td>0.29137</td>\n",
       "      <td>0.062733</td>\n",
       "      <td>0.657782</td>\n",
       "      <td>0.482729</td>\n",
       "      <td>0.286765</td>\n",
       "      <td>1.0</td>\n",
       "      <td>0.0</td>\n",
       "      <td>0.0</td>\n",
       "      <td>0.0</td>\n",
       "      <td>0.0</td>\n",
       "      <td>0.0</td>\n",
       "      <td>0.0</td>\n",
       "      <td>0.0</td>\n",
       "      <td>0.0</td>\n",
       "      <td>1.0</td>\n",
       "    </tr>\n",
       "    <tr>\n",
       "      <th>2012</th>\n",
       "      <td>0.992702</td>\n",
       "      <td>0.29137</td>\n",
       "      <td>0.062733</td>\n",
       "      <td>0.657782</td>\n",
       "      <td>0.482729</td>\n",
       "      <td>0.286765</td>\n",
       "      <td>1.0</td>\n",
       "      <td>0.0</td>\n",
       "      <td>0.0</td>\n",
       "      <td>0.0</td>\n",
       "      <td>0.0</td>\n",
       "      <td>0.0</td>\n",
       "      <td>0.0</td>\n",
       "      <td>0.0</td>\n",
       "      <td>0.0</td>\n",
       "      <td>0.0</td>\n",
       "    </tr>\n",
       "    <tr>\n",
       "      <th>2013</th>\n",
       "      <td>0.995830</td>\n",
       "      <td>0.29137</td>\n",
       "      <td>0.062733</td>\n",
       "      <td>0.657782</td>\n",
       "      <td>0.446206</td>\n",
       "      <td>0.252941</td>\n",
       "      <td>1.0</td>\n",
       "      <td>0.0</td>\n",
       "      <td>0.0</td>\n",
       "      <td>0.0</td>\n",
       "      <td>0.0</td>\n",
       "      <td>0.0</td>\n",
       "      <td>0.0</td>\n",
       "      <td>0.0</td>\n",
       "      <td>0.0</td>\n",
       "      <td>1.0</td>\n",
       "    </tr>\n",
       "  </tbody>\n",
       "</table>\n",
       "</div>"
      ],
      "text/plain": [
       "      Completion Rate for lower secondary Edu  Childhood_Education_GER  \\\n",
       "Year                                                                     \n",
       "2012                                 0.995830                  0.29137   \n",
       "2012                                 0.992702                  0.29137   \n",
       "2013                                 0.995830                  0.29137   \n",
       "\n",
       "      Gross_enrolment_ratio_early_childhood_educational_development_programmes  \\\n",
       "Year                                                                             \n",
       "2012                                           0.062733                          \n",
       "2012                                           0.062733                          \n",
       "2013                                           0.062733                          \n",
       "\n",
       "      Literacy_rate_for_25_64_years_old  \\\n",
       "Year                                      \n",
       "2012                           0.657782   \n",
       "2012                           0.657782   \n",
       "2013                           0.657782   \n",
       "\n",
       "      Expenditure_on_education_as_a_percentage_of_total_government_expenditure  \\\n",
       "Year                                                                             \n",
       "2012                                           0.482729                          \n",
       "2012                                           0.482729                          \n",
       "2013                                           0.446206                          \n",
       "\n",
       "      Government_expenditure_on_education_as_a_percentage_of_GDP  \\\n",
       "Year                                                               \n",
       "2012                                           0.286765            \n",
       "2012                                           0.286765            \n",
       "2013                                           0.252941            \n",
       "\n",
       "      Central_Asia  Central_and_Southern_Asia  Eastern_and_South_Eastern_Asia  \\\n",
       "Year                                                                            \n",
       "2012           1.0                        0.0                             0.0   \n",
       "2012           1.0                        0.0                             0.0   \n",
       "2013           1.0                        0.0                             0.0   \n",
       "\n",
       "      Europe_and_Northern_America  Latin_America_and_the_Caribbean  \\\n",
       "Year                                                                 \n",
       "2012                          0.0                              0.0   \n",
       "2012                          0.0                              0.0   \n",
       "2013                          0.0                              0.0   \n",
       "\n",
       "      Northern_Africa_and_Western_Asia  Oceania  Southern_Asia  \\\n",
       "Year                                                             \n",
       "2012                               0.0      0.0            0.0   \n",
       "2012                               0.0      0.0            0.0   \n",
       "2013                               0.0      0.0            0.0   \n",
       "\n",
       "      Sub-Saharan Africa  Gender_numerical  \n",
       "Year                                        \n",
       "2012                 0.0               1.0  \n",
       "2012                 0.0               0.0  \n",
       "2013                 0.0               1.0  "
      ]
     },
     "execution_count": 124,
     "metadata": {},
     "output_type": "execute_result"
    }
   ],
   "source": [
    "scaler = MinMaxScaler()\n",
    "normalized_df = pd.DataFrame(scaler.fit_transform(dff), columns=dff.columns)\n",
    "normalized_df['Year'] = data_col\n",
    "normalized_df.set_index('Year', inplace =True)\n",
    "normalized_df.head(3)"
   ]
  },
  {
   "cell_type": "code",
   "execution_count": 125,
   "id": "0332c37a",
   "metadata": {
    "colab": {
     "base_uri": "https://localhost:8080/",
     "height": 511
    },
    "id": "0332c37a",
    "outputId": "d09ae527-2ab8-441d-eade-a39a836843d7"
   },
   "outputs": [
    {
     "data": {
      "text/html": [
       "<div>\n",
       "<style scoped>\n",
       "    .dataframe tbody tr th:only-of-type {\n",
       "        vertical-align: middle;\n",
       "    }\n",
       "\n",
       "    .dataframe tbody tr th {\n",
       "        vertical-align: top;\n",
       "    }\n",
       "\n",
       "    .dataframe thead th {\n",
       "        text-align: right;\n",
       "    }\n",
       "</style>\n",
       "<table border=\"1\" class=\"dataframe\">\n",
       "  <thead>\n",
       "    <tr style=\"text-align: right;\">\n",
       "      <th></th>\n",
       "      <th>Completion Rate for lower secondary Edu</th>\n",
       "      <th>Childhood_Education_GER</th>\n",
       "      <th>Gross_enrolment_ratio_early_childhood_educational_development_programmes</th>\n",
       "      <th>Literacy_rate_for_25_64_years_old</th>\n",
       "      <th>Expenditure_on_education_as_a_percentage_of_total_government_expenditure</th>\n",
       "      <th>Government_expenditure_on_education_as_a_percentage_of_GDP</th>\n",
       "      <th>Central_Asia</th>\n",
       "      <th>Central_and_Southern_Asia</th>\n",
       "      <th>Eastern_and_South_Eastern_Asia</th>\n",
       "      <th>Europe_and_Northern_America</th>\n",
       "      <th>Latin_America_and_the_Caribbean</th>\n",
       "      <th>Northern_Africa_and_Western_Asia</th>\n",
       "      <th>Oceania</th>\n",
       "      <th>Southern_Asia</th>\n",
       "      <th>Sub-Saharan Africa</th>\n",
       "      <th>Gender_numerical</th>\n",
       "    </tr>\n",
       "  </thead>\n",
       "  <tbody>\n",
       "    <tr>\n",
       "      <th>Completion Rate for lower secondary Edu</th>\n",
       "      <td>1.000000</td>\n",
       "      <td>0.343942</td>\n",
       "      <td>0.32831</td>\n",
       "      <td>0.340289</td>\n",
       "      <td>-0.045622</td>\n",
       "      <td>0.186643</td>\n",
       "      <td>0.201558</td>\n",
       "      <td>0.106305</td>\n",
       "      <td>0.060688</td>\n",
       "      <td>0.390367</td>\n",
       "      <td>0.157616</td>\n",
       "      <td>0.081599</td>\n",
       "      <td>0.087659</td>\n",
       "      <td>-0.014274</td>\n",
       "      <td>-0.657521</td>\n",
       "      <td>0.033615</td>\n",
       "    </tr>\n",
       "    <tr>\n",
       "      <th>Childhood_Education_GER</th>\n",
       "      <td>0.343942</td>\n",
       "      <td>1.000000</td>\n",
       "      <td>0.29785</td>\n",
       "      <td>0.118688</td>\n",
       "      <td>-0.179933</td>\n",
       "      <td>-0.016032</td>\n",
       "      <td>-0.064723</td>\n",
       "      <td>0.087554</td>\n",
       "      <td>0.157975</td>\n",
       "      <td>0.185838</td>\n",
       "      <td>0.023716</td>\n",
       "      <td>-0.050977</td>\n",
       "      <td>0.053288</td>\n",
       "      <td>0.149977</td>\n",
       "      <td>-0.346649</td>\n",
       "      <td>0.001953</td>\n",
       "    </tr>\n",
       "    <tr>\n",
       "      <th>Gross_enrolment_ratio_early_childhood_educational_development_programmes</th>\n",
       "      <td>0.328310</td>\n",
       "      <td>0.297850</td>\n",
       "      <td>1.00000</td>\n",
       "      <td>0.122610</td>\n",
       "      <td>0.003044</td>\n",
       "      <td>-0.017530</td>\n",
       "      <td>-0.008402</td>\n",
       "      <td>-0.093543</td>\n",
       "      <td>0.091912</td>\n",
       "      <td>0.362503</td>\n",
       "      <td>0.144668</td>\n",
       "      <td>-0.110848</td>\n",
       "      <td>-0.091824</td>\n",
       "      <td>-0.105874</td>\n",
       "      <td>-0.196446</td>\n",
       "      <td>0.000421</td>\n",
       "    </tr>\n",
       "  </tbody>\n",
       "</table>\n",
       "</div>"
      ],
      "text/plain": [
       "                                                    Completion Rate for lower secondary Edu  \\\n",
       "Completion Rate for lower secondary Edu                                            1.000000   \n",
       "Childhood_Education_GER                                                            0.343942   \n",
       "Gross_enrolment_ratio_early_childhood_education...                                 0.328310   \n",
       "\n",
       "                                                    Childhood_Education_GER  \\\n",
       "Completion Rate for lower secondary Edu                            0.343942   \n",
       "Childhood_Education_GER                                            1.000000   \n",
       "Gross_enrolment_ratio_early_childhood_education...                 0.297850   \n",
       "\n",
       "                                                    Gross_enrolment_ratio_early_childhood_educational_development_programmes  \\\n",
       "Completion Rate for lower secondary Edu                                                       0.32831                          \n",
       "Childhood_Education_GER                                                                       0.29785                          \n",
       "Gross_enrolment_ratio_early_childhood_education...                                            1.00000                          \n",
       "\n",
       "                                                    Literacy_rate_for_25_64_years_old  \\\n",
       "Completion Rate for lower secondary Edu                                      0.340289   \n",
       "Childhood_Education_GER                                                      0.118688   \n",
       "Gross_enrolment_ratio_early_childhood_education...                           0.122610   \n",
       "\n",
       "                                                    Expenditure_on_education_as_a_percentage_of_total_government_expenditure  \\\n",
       "Completion Rate for lower secondary Edu                                                     -0.045622                          \n",
       "Childhood_Education_GER                                                                     -0.179933                          \n",
       "Gross_enrolment_ratio_early_childhood_education...                                           0.003044                          \n",
       "\n",
       "                                                    Government_expenditure_on_education_as_a_percentage_of_GDP  \\\n",
       "Completion Rate for lower secondary Edu                                                      0.186643            \n",
       "Childhood_Education_GER                                                                     -0.016032            \n",
       "Gross_enrolment_ratio_early_childhood_education...                                          -0.017530            \n",
       "\n",
       "                                                    Central_Asia  \\\n",
       "Completion Rate for lower secondary Edu                 0.201558   \n",
       "Childhood_Education_GER                                -0.064723   \n",
       "Gross_enrolment_ratio_early_childhood_education...     -0.008402   \n",
       "\n",
       "                                                    Central_and_Southern_Asia  \\\n",
       "Completion Rate for lower secondary Edu                              0.106305   \n",
       "Childhood_Education_GER                                              0.087554   \n",
       "Gross_enrolment_ratio_early_childhood_education...                  -0.093543   \n",
       "\n",
       "                                                    Eastern_and_South_Eastern_Asia  \\\n",
       "Completion Rate for lower secondary Edu                                   0.060688   \n",
       "Childhood_Education_GER                                                   0.157975   \n",
       "Gross_enrolment_ratio_early_childhood_education...                        0.091912   \n",
       "\n",
       "                                                    Europe_and_Northern_America  \\\n",
       "Completion Rate for lower secondary Edu                                0.390367   \n",
       "Childhood_Education_GER                                                0.185838   \n",
       "Gross_enrolment_ratio_early_childhood_education...                     0.362503   \n",
       "\n",
       "                                                    Latin_America_and_the_Caribbean  \\\n",
       "Completion Rate for lower secondary Edu                                    0.157616   \n",
       "Childhood_Education_GER                                                    0.023716   \n",
       "Gross_enrolment_ratio_early_childhood_education...                         0.144668   \n",
       "\n",
       "                                                    Northern_Africa_and_Western_Asia  \\\n",
       "Completion Rate for lower secondary Edu                                     0.081599   \n",
       "Childhood_Education_GER                                                    -0.050977   \n",
       "Gross_enrolment_ratio_early_childhood_education...                         -0.110848   \n",
       "\n",
       "                                                     Oceania  Southern_Asia  \\\n",
       "Completion Rate for lower secondary Edu             0.087659      -0.014274   \n",
       "Childhood_Education_GER                             0.053288       0.149977   \n",
       "Gross_enrolment_ratio_early_childhood_education... -0.091824      -0.105874   \n",
       "\n",
       "                                                    Sub-Saharan Africa  \\\n",
       "Completion Rate for lower secondary Edu                      -0.657521   \n",
       "Childhood_Education_GER                                      -0.346649   \n",
       "Gross_enrolment_ratio_early_childhood_education...           -0.196446   \n",
       "\n",
       "                                                    Gender_numerical  \n",
       "Completion Rate for lower secondary Edu                     0.033615  \n",
       "Childhood_Education_GER                                     0.001953  \n",
       "Gross_enrolment_ratio_early_childhood_education...          0.000421  "
      ]
     },
     "execution_count": 125,
     "metadata": {},
     "output_type": "execute_result"
    }
   ],
   "source": [
    "normalized_df.corr().head(3)"
   ]
  },
  {
   "cell_type": "code",
   "execution_count": 126,
   "id": "KhofohCOajCz",
   "metadata": {
    "id": "KhofohCOajCz"
   },
   "outputs": [],
   "source": [
    "# spliting the dataset into training and testing set\n",
    "x = normalized_df.drop('Completion Rate for lower secondary Edu', axis = 1)\n",
    "y = normalized_df['Completion Rate for lower secondary Edu']\n",
    "\n",
    "\n",
    "# making the train set to be 75% of the entire dataset.\n",
    "x_train, x_test, y_train, y_test = train_test_split(x, y, test_size = 0.3, random_state=42)\n",
    "\n",
    "# test is now 10% of the entire dataset\n",
    "# validation is now 15% of the entire dataset"
   ]
  },
  {
   "cell_type": "markdown",
   "id": "6249c3dc",
   "metadata": {
    "id": "6249c3dc"
   },
   "source": [
    "## Model Training, Testing and evaluation\n",
    "\n",
    "\n",
    " Because the target variable been 'Completion rate for primary school Edu' is a continoues data and not categorical. therfore, the model algorithm to be use is the regression and not classifiers.\n",
    "\n",
    "#### 1. Linear Regression\n"
   ]
  },
  {
   "cell_type": "code",
   "execution_count": 90,
   "id": "7lAiX0WTTnm9",
   "metadata": {
    "id": "7lAiX0WTTnm9"
   },
   "outputs": [],
   "source": [
    "def parameters_hypertuning(model, parameters = {}):\n",
    "  gs = GridSearchCV(model, parameters)\n",
    "  gs.fit(x_train, y_train)\n",
    "  hypertuned_parameters = gs.best_params_\n",
    "\n",
    "  return hypertuned_parameters\n"
   ]
  },
  {
   "cell_type": "code",
   "execution_count": 114,
   "id": "Hlu1nGjnUdHg",
   "metadata": {
    "colab": {
     "base_uri": "https://localhost:8080/"
    },
    "id": "Hlu1nGjnUdHg",
    "outputId": "526947a4-52ff-482a-d1da-24b068657792"
   },
   "outputs": [
    {
     "data": {
      "text/plain": [
       "{'n_jobs': 0}"
      ]
     },
     "execution_count": 114,
     "metadata": {},
     "output_type": "execute_result"
    }
   ],
   "source": [
    "#hypertuning of paramters for the linear regression model\n",
    "parameters_hypertuning(linear_model, {'n_jobs': range(0, 50, 5)})"
   ]
  },
  {
   "cell_type": "code",
   "execution_count": 115,
   "id": "tN0hjkLhVE16",
   "metadata": {
    "colab": {
     "base_uri": "https://localhost:8080/"
    },
    "id": "tN0hjkLhVE16",
    "outputId": "968d06f4-2e58-4632-a387-ce10c815c95c"
   },
   "outputs": [
    {
     "data": {
      "text/plain": [
       "{'alpha': 1.0, 'max_iter': 50}"
      ]
     },
     "execution_count": 115,
     "metadata": {},
     "output_type": "execute_result"
    }
   ],
   "source": [
    "#hypertuning of paramters for the ridge model\n",
    "\n",
    "parameters_hypertuning(ridge_model,\n",
    " {'alpha': np.arange(1.0, 20.0),\n",
    "  'max_iter': range(0, 1500, 50)\n",
    "  })"
   ]
  },
  {
   "cell_type": "code",
   "execution_count": 116,
   "id": "MCbNzi3sWf2C",
   "metadata": {
    "colab": {
     "base_uri": "https://localhost:8080/"
    },
    "id": "MCbNzi3sWf2C",
    "outputId": "5d458b56-06d0-431e-c1ba-78402386381c"
   },
   "outputs": [
    {
     "data": {
      "text/plain": [
       "{'alpha': 1.0, 'max_iter': 50}"
      ]
     },
     "execution_count": 116,
     "metadata": {},
     "output_type": "execute_result"
    }
   ],
   "source": [
    "#hypertuning of paramters for the lasso model\n",
    "parameters_hypertuning(lasso_model, {'alpha': np.arange(1.0, 20.0),\n",
    "  'max_iter': range(0, 1500, 50)})"
   ]
  },
  {
   "cell_type": "code",
   "execution_count": 117,
   "id": "pWNRzvrafYce",
   "metadata": {
    "colab": {
     "base_uri": "https://localhost:8080/"
    },
    "id": "pWNRzvrafYce",
    "outputId": "ab0dcd23-23a0-43dd-f504-c26f91f6698b"
   },
   "outputs": [
    {
     "data": {
      "text/plain": [
       "{'learning_rate': 1.0, 'loss': 'squared_error', 'n_estimators': 30}"
      ]
     },
     "execution_count": 117,
     "metadata": {},
     "output_type": "execute_result"
    }
   ],
   "source": [
    "#hypertuning of paramters for the Gradient boosting model\n",
    "parameters_hypertuning(Gbr, {'loss': ['squared_error', 'absolute_error', 'huber', 'quantile'],\n",
    "                             'learning_rate': np.arange(1.0, 20.0, 2.0),\n",
    "                             'n_estimators': range(0, 50, 5)})"
   ]
  },
  {
   "cell_type": "code",
   "execution_count": 91,
   "id": "08c2e319",
   "metadata": {
    "colab": {
     "base_uri": "https://localhost:8080/"
    },
    "id": "08c2e319",
    "outputId": "9a12979d-65fa-4412-90c1-efea8b7e9a91"
   },
   "outputs": [
    {
     "name": "stdout",
     "output_type": "stream",
     "text": [
      "Training took 0.04 seconds.\n"
     ]
    }
   ],
   "source": [
    "\n",
    "import time\n",
    "\n",
    "# Record start time\n",
    "start_time = time.time()\n",
    "\n",
    "# Create a Linear Regression model\n",
    "linear_model = LinearRegression()\n",
    "\n",
    "# Fit the model to the training dataset\n",
    "linear_model.fit(x_train, y_train)\n",
    "\n",
    "# Record end time\n",
    "end_time = time.time()\n",
    "\n",
    "# Calculate elapsed time\n",
    "elapsed_time = end_time - start_time\n",
    "\n",
    "# Display training time\n",
    "print(\"Training took {:.2f} seconds.\".format(elapsed_time))\n",
    "\n",
    "\n",
    "\n"
   ]
  },
  {
   "cell_type": "code",
   "execution_count": 92,
   "id": "d1340cbb",
   "metadata": {
    "id": "d1340cbb"
   },
   "outputs": [],
   "source": [
    "# Obtain predictions\n",
    "predicted_values = linear_model.predict(x_test)\n",
    "\n",
    "#Getting the Linear model evaluation results\n",
    "MAE = mean_absolute_error(y_test, predicted_values)\n",
    "MSE = mean_squared_error(y_test, predicted_values)\n",
    "RMSE =np.sqrt(mean_squared_error(y_test, predicted_values))\n",
    "RSS =np.sum(np.square(y_test - predicted_values))\n",
    "r2=r2_score(y_test, predicted_values)\n",
    "\n",
    "\n"
   ]
  },
  {
   "cell_type": "code",
   "execution_count": 93,
   "id": "f3f0d7b3",
   "metadata": {
    "colab": {
     "base_uri": "https://localhost:8080/",
     "height": 81
    },
    "id": "f3f0d7b3",
    "outputId": "6ca8e63f-0241-44a4-d80c-9263fdc7a61b"
   },
   "outputs": [
    {
     "data": {
      "text/html": [
       "<div>\n",
       "<style scoped>\n",
       "    .dataframe tbody tr th:only-of-type {\n",
       "        vertical-align: middle;\n",
       "    }\n",
       "\n",
       "    .dataframe tbody tr th {\n",
       "        vertical-align: top;\n",
       "    }\n",
       "\n",
       "    .dataframe thead th {\n",
       "        text-align: right;\n",
       "    }\n",
       "</style>\n",
       "<table border=\"1\" class=\"dataframe\">\n",
       "  <thead>\n",
       "    <tr style=\"text-align: right;\">\n",
       "      <th></th>\n",
       "      <th>Model</th>\n",
       "      <th>MAE</th>\n",
       "      <th>MSE</th>\n",
       "      <th>RMSE</th>\n",
       "      <th>RSS</th>\n",
       "      <th>r2_score</th>\n",
       "    </tr>\n",
       "  </thead>\n",
       "  <tbody>\n",
       "    <tr>\n",
       "      <th>0</th>\n",
       "      <td>Linear regression</td>\n",
       "      <td>0.125418</td>\n",
       "      <td>0.025266</td>\n",
       "      <td>0.158952</td>\n",
       "      <td>14.199327</td>\n",
       "      <td>0.705726</td>\n",
       "    </tr>\n",
       "  </tbody>\n",
       "</table>\n",
       "</div>"
      ],
      "text/plain": [
       "               Model       MAE       MSE      RMSE        RSS  r2_score\n",
       "0  Linear regression  0.125418  0.025266  0.158952  14.199327  0.705726"
      ]
     },
     "execution_count": 93,
     "metadata": {},
     "output_type": "execute_result"
    }
   ],
   "source": [
    "# Model evaluation\n",
    "\n",
    "results = pd.DataFrame([['Linear regression', MAE, MSE, RMSE, RSS,r2]],\n",
    "               columns = ['Model', 'MAE', 'MSE', 'RMSE', 'RSS','r2_score'])\n",
    "results"
   ]
  },
  {
   "cell_type": "code",
   "execution_count": 94,
   "id": "9ebb7228",
   "metadata": {
    "colab": {
     "base_uri": "https://localhost:8080/",
     "height": 455
    },
    "id": "9ebb7228",
    "outputId": "fc67057c-b936-48b3-8d63-6cbf0db9bb95"
   },
   "outputs": [
    {
     "data": {
      "text/html": [
       "<div>\n",
       "<style scoped>\n",
       "    .dataframe tbody tr th:only-of-type {\n",
       "        vertical-align: middle;\n",
       "    }\n",
       "\n",
       "    .dataframe tbody tr th {\n",
       "        vertical-align: top;\n",
       "    }\n",
       "\n",
       "    .dataframe thead th {\n",
       "        text-align: right;\n",
       "    }\n",
       "</style>\n",
       "<table border=\"1\" class=\"dataframe\">\n",
       "  <thead>\n",
       "    <tr style=\"text-align: right;\">\n",
       "      <th></th>\n",
       "      <th>actual_values</th>\n",
       "      <th>predictions</th>\n",
       "    </tr>\n",
       "    <tr>\n",
       "      <th>Year</th>\n",
       "      <th></th>\n",
       "      <th></th>\n",
       "    </tr>\n",
       "  </thead>\n",
       "  <tbody>\n",
       "    <tr>\n",
       "      <th>2016</th>\n",
       "      <td>7.631359</td>\n",
       "      <td>15.380859</td>\n",
       "    </tr>\n",
       "    <tr>\n",
       "      <th>2020</th>\n",
       "      <td>58.507089</td>\n",
       "      <td>59.521484</td>\n",
       "    </tr>\n",
       "    <tr>\n",
       "      <th>2018</th>\n",
       "      <td>25.562969</td>\n",
       "      <td>50.732422</td>\n",
       "    </tr>\n",
       "    <tr>\n",
       "      <th>2016</th>\n",
       "      <td>81.442869</td>\n",
       "      <td>91.259766</td>\n",
       "    </tr>\n",
       "    <tr>\n",
       "      <th>2015</th>\n",
       "      <td>98.227690</td>\n",
       "      <td>88.525391</td>\n",
       "    </tr>\n",
       "    <tr>\n",
       "      <th>...</th>\n",
       "      <td>...</td>\n",
       "      <td>...</td>\n",
       "    </tr>\n",
       "    <tr>\n",
       "      <th>2015</th>\n",
       "      <td>36.822352</td>\n",
       "      <td>55.175781</td>\n",
       "    </tr>\n",
       "    <tr>\n",
       "      <th>2018</th>\n",
       "      <td>98.748957</td>\n",
       "      <td>99.121094</td>\n",
       "    </tr>\n",
       "    <tr>\n",
       "      <th>2012</th>\n",
       "      <td>34.424520</td>\n",
       "      <td>31.054688</td>\n",
       "    </tr>\n",
       "    <tr>\n",
       "      <th>2020</th>\n",
       "      <td>37.552127</td>\n",
       "      <td>38.769531</td>\n",
       "    </tr>\n",
       "    <tr>\n",
       "      <th>2019</th>\n",
       "      <td>73.123436</td>\n",
       "      <td>85.400391</td>\n",
       "    </tr>\n",
       "  </tbody>\n",
       "</table>\n",
       "<p>562 rows × 2 columns</p>\n",
       "</div>"
      ],
      "text/plain": [
       "      actual_values  predictions\n",
       "Year                            \n",
       "2016       7.631359    15.380859\n",
       "2020      58.507089    59.521484\n",
       "2018      25.562969    50.732422\n",
       "2016      81.442869    91.259766\n",
       "2015      98.227690    88.525391\n",
       "...             ...          ...\n",
       "2015      36.822352    55.175781\n",
       "2018      98.748957    99.121094\n",
       "2012      34.424520    31.054688\n",
       "2020      37.552127    38.769531\n",
       "2019      73.123436    85.400391\n",
       "\n",
       "[562 rows x 2 columns]"
      ]
     },
     "execution_count": 94,
     "metadata": {},
     "output_type": "execute_result"
    }
   ],
   "source": [
    "lreg_df = pd.DataFrame(data ={\"actual_values\": y_test * 100, \"predictions\":predicted_values * 100})\n",
    "lreg_df\n"
   ]
  },
  {
   "cell_type": "markdown",
   "id": "jLT816vZk8L5",
   "metadata": {
    "id": "jLT816vZk8L5"
   },
   "source": [
    "## Ridge Regression"
   ]
  },
  {
   "cell_type": "code",
   "execution_count": 95,
   "id": "Wpbbr5vBhtRb",
   "metadata": {
    "colab": {
     "base_uri": "https://localhost:8080/"
    },
    "id": "Wpbbr5vBhtRb",
    "outputId": "9d25d867-aeaa-4787-81de-1b4c61c844df"
   },
   "outputs": [
    {
     "name": "stdout",
     "output_type": "stream",
     "text": [
      "Training took 0.03 seconds.\n"
     ]
    }
   ],
   "source": [
    "# ridge regression\n",
    "start_time = time.time()\n",
    "\n",
    "ridge_model = Ridge(alpha = 1.0, max_iter = 50)\n",
    "ridge_model.fit(x_train, y_train)\n",
    "# Record end time\n",
    "end_time = time.time()\n",
    "\n",
    "# Calculate elapsed time\n",
    "elapsed_time = end_time - start_time\n",
    "\n",
    "# Display training time\n",
    "print(\"Training took {:.2f} seconds.\".format(elapsed_time))\n"
   ]
  },
  {
   "cell_type": "code",
   "execution_count": 96,
   "id": "Rj6eiEn_iiBo",
   "metadata": {
    "id": "Rj6eiEn_iiBo"
   },
   "outputs": [],
   "source": [
    "y_preds = ridge_model.predict(x_test)"
   ]
  },
  {
   "cell_type": "code",
   "execution_count": 97,
   "id": "RFzq0Ussiq2L",
   "metadata": {
    "id": "RFzq0Ussiq2L"
   },
   "outputs": [],
   "source": [
    "#Getting the ridge model evaluation results\n",
    "mae= mean_absolute_error(y_test, y_preds)\n",
    "mse= mean_squared_error(y_test, y_preds)\n",
    "rmse=np.sqrt(mean_squared_error(y_test, y_preds))\n",
    "rss=np.sum(np.square(y_test - y_preds))\n",
    "r_squared=r2_score(y_test, y_preds)"
   ]
  },
  {
   "cell_type": "code",
   "execution_count": 98,
   "id": "GxhAOopWis0J",
   "metadata": {
    "colab": {
     "base_uri": "https://localhost:8080/",
     "height": 81
    },
    "id": "GxhAOopWis0J",
    "outputId": "b96ecee8-2706-44c4-96f1-e0cd7a2bd031"
   },
   "outputs": [
    {
     "data": {
      "text/html": [
       "<div>\n",
       "<style scoped>\n",
       "    .dataframe tbody tr th:only-of-type {\n",
       "        vertical-align: middle;\n",
       "    }\n",
       "\n",
       "    .dataframe tbody tr th {\n",
       "        vertical-align: top;\n",
       "    }\n",
       "\n",
       "    .dataframe thead th {\n",
       "        text-align: right;\n",
       "    }\n",
       "</style>\n",
       "<table border=\"1\" class=\"dataframe\">\n",
       "  <thead>\n",
       "    <tr style=\"text-align: right;\">\n",
       "      <th></th>\n",
       "      <th>Model</th>\n",
       "      <th>MAE</th>\n",
       "      <th>MSE</th>\n",
       "      <th>RMSE</th>\n",
       "      <th>RSS</th>\n",
       "      <th>r2_score</th>\n",
       "    </tr>\n",
       "  </thead>\n",
       "  <tbody>\n",
       "    <tr>\n",
       "      <th>0</th>\n",
       "      <td>Ridge regression</td>\n",
       "      <td>0.126383</td>\n",
       "      <td>0.02536</td>\n",
       "      <td>0.159249</td>\n",
       "      <td>14.252524</td>\n",
       "      <td>0.704623</td>\n",
       "    </tr>\n",
       "  </tbody>\n",
       "</table>\n",
       "</div>"
      ],
      "text/plain": [
       "              Model       MAE      MSE      RMSE        RSS  r2_score\n",
       "0  Ridge regression  0.126383  0.02536  0.159249  14.252524  0.704623"
      ]
     },
     "execution_count": 98,
     "metadata": {},
     "output_type": "execute_result"
    }
   ],
   "source": [
    "model_results = pd.DataFrame([['Ridge regression', mae, mse, rmse, rss,r_squared]],\n",
    "               columns = ['Model', 'MAE', 'MSE', 'RMSE', 'RSS','r2_score'])\n",
    "results = pd.concat([results, model_results], ignore_index=True)\n",
    "model_results"
   ]
  },
  {
   "cell_type": "code",
   "execution_count": 99,
   "id": "2GEXVHIdjSYw",
   "metadata": {
    "colab": {
     "base_uri": "https://localhost:8080/",
     "height": 455
    },
    "id": "2GEXVHIdjSYw",
    "outputId": "51eb18fa-3245-4547-f8e3-10ef7f88d2aa"
   },
   "outputs": [
    {
     "data": {
      "text/html": [
       "<div>\n",
       "<style scoped>\n",
       "    .dataframe tbody tr th:only-of-type {\n",
       "        vertical-align: middle;\n",
       "    }\n",
       "\n",
       "    .dataframe tbody tr th {\n",
       "        vertical-align: top;\n",
       "    }\n",
       "\n",
       "    .dataframe thead th {\n",
       "        text-align: right;\n",
       "    }\n",
       "</style>\n",
       "<table border=\"1\" class=\"dataframe\">\n",
       "  <thead>\n",
       "    <tr style=\"text-align: right;\">\n",
       "      <th></th>\n",
       "      <th>actual_values</th>\n",
       "      <th>predictions</th>\n",
       "    </tr>\n",
       "    <tr>\n",
       "      <th>Year</th>\n",
       "      <th></th>\n",
       "      <th></th>\n",
       "    </tr>\n",
       "  </thead>\n",
       "  <tbody>\n",
       "    <tr>\n",
       "      <th>2016</th>\n",
       "      <td>7.631359</td>\n",
       "      <td>15.380859</td>\n",
       "    </tr>\n",
       "    <tr>\n",
       "      <th>2020</th>\n",
       "      <td>58.507089</td>\n",
       "      <td>59.521484</td>\n",
       "    </tr>\n",
       "    <tr>\n",
       "      <th>2018</th>\n",
       "      <td>25.562969</td>\n",
       "      <td>50.732422</td>\n",
       "    </tr>\n",
       "    <tr>\n",
       "      <th>2016</th>\n",
       "      <td>81.442869</td>\n",
       "      <td>91.259766</td>\n",
       "    </tr>\n",
       "    <tr>\n",
       "      <th>2015</th>\n",
       "      <td>98.227690</td>\n",
       "      <td>88.525391</td>\n",
       "    </tr>\n",
       "    <tr>\n",
       "      <th>...</th>\n",
       "      <td>...</td>\n",
       "      <td>...</td>\n",
       "    </tr>\n",
       "    <tr>\n",
       "      <th>2015</th>\n",
       "      <td>36.822352</td>\n",
       "      <td>55.175781</td>\n",
       "    </tr>\n",
       "    <tr>\n",
       "      <th>2018</th>\n",
       "      <td>98.748957</td>\n",
       "      <td>99.121094</td>\n",
       "    </tr>\n",
       "    <tr>\n",
       "      <th>2012</th>\n",
       "      <td>34.424520</td>\n",
       "      <td>31.054688</td>\n",
       "    </tr>\n",
       "    <tr>\n",
       "      <th>2020</th>\n",
       "      <td>37.552127</td>\n",
       "      <td>38.769531</td>\n",
       "    </tr>\n",
       "    <tr>\n",
       "      <th>2019</th>\n",
       "      <td>73.123436</td>\n",
       "      <td>85.400391</td>\n",
       "    </tr>\n",
       "  </tbody>\n",
       "</table>\n",
       "<p>562 rows × 2 columns</p>\n",
       "</div>"
      ],
      "text/plain": [
       "      actual_values  predictions\n",
       "Year                            \n",
       "2016       7.631359    15.380859\n",
       "2020      58.507089    59.521484\n",
       "2018      25.562969    50.732422\n",
       "2016      81.442869    91.259766\n",
       "2015      98.227690    88.525391\n",
       "...             ...          ...\n",
       "2015      36.822352    55.175781\n",
       "2018      98.748957    99.121094\n",
       "2012      34.424520    31.054688\n",
       "2020      37.552127    38.769531\n",
       "2019      73.123436    85.400391\n",
       "\n",
       "[562 rows x 2 columns]"
      ]
     },
     "execution_count": 99,
     "metadata": {},
     "output_type": "execute_result"
    }
   ],
   "source": [
    "ridg_df = pd.DataFrame(data ={\"actual_values\": y_test * 100, \"predictions\":predicted_values * 100})\n",
    "ridg_df\n"
   ]
  },
  {
   "cell_type": "markdown",
   "id": "a8b15666",
   "metadata": {
    "id": "a8b15666"
   },
   "source": [
    "#### Lasso regression"
   ]
  },
  {
   "cell_type": "code",
   "execution_count": 100,
   "id": "9253cf11",
   "metadata": {
    "colab": {
     "base_uri": "https://localhost:8080/"
    },
    "id": "9253cf11",
    "outputId": "a6859e39-9912-4b97-c064-946075fc70b9"
   },
   "outputs": [
    {
     "name": "stdout",
     "output_type": "stream",
     "text": [
      "Training took 0.02 seconds.\n"
     ]
    }
   ],
   "source": [
    "\n",
    "# Record start time\n",
    "start_time = time.time()\n",
    "\n",
    "lasso_model = Lasso(alpha = 1.0, max_iter = 50)\n",
    "\n",
    "lasso_model.fit(x_train, y_train)\n",
    "\n",
    "# Record end time\n",
    "end_time = time.time()\n",
    "\n",
    "# Calculate elapsed time\n",
    "elapsed_time = end_time - start_time\n",
    "\n",
    "# Display training time\n",
    "print(\"Training took {:.2f} seconds.\".format(elapsed_time))\n",
    "\n",
    "\n"
   ]
  },
  {
   "cell_type": "code",
   "execution_count": 101,
   "id": "437add8d",
   "metadata": {
    "id": "437add8d"
   },
   "outputs": [],
   "source": [
    "lasso_predictions  = lasso_model.predict(x_test)"
   ]
  },
  {
   "cell_type": "code",
   "execution_count": 102,
   "id": "8112c090",
   "metadata": {
    "colab": {
     "base_uri": "https://localhost:8080/"
    },
    "id": "8112c090",
    "outputId": "1a39a58a-629d-4616-8d3e-5024a4ff638c"
   },
   "outputs": [
    {
     "name": "stdout",
     "output_type": "stream",
     "text": [
      "(562,) (562,)\n"
     ]
    }
   ],
   "source": [
    "print(lasso_predictions.shape, y_test.shape)"
   ]
  },
  {
   "cell_type": "code",
   "execution_count": 103,
   "id": "a4b417c7",
   "metadata": {
    "id": "a4b417c7"
   },
   "outputs": [],
   "source": [
    "# getting the lasso model evaluation results\n",
    "lasso_r2 = r2_score(y_test, lasso_predictions)\n",
    "lasso_mse = mean_squared_error( y_test,lasso_predictions)\n",
    "lasso_rmse = np.sqrt(lasso_mse)\n",
    "lasso_mae = mean_absolute_error(y_test,lasso_predictions)\n",
    "lasso_rss = np.sum(np.square(y_test - lasso_predictions))"
   ]
  },
  {
   "cell_type": "code",
   "execution_count": 104,
   "id": "daf81bf0",
   "metadata": {
    "id": "daf81bf0"
   },
   "outputs": [],
   "source": [
    "model_results = pd.DataFrame([['lasso regression', lasso_mae, lasso_mse, lasso_rmse, lasso_rss, lasso_r2]],\n",
    "               columns = ['Model', 'MAE', 'MSE', 'RMSE', 'RSS','r2_score'])\n",
    "results = pd.concat([results, model_results], ignore_index=True)"
   ]
  },
  {
   "cell_type": "code",
   "execution_count": 105,
   "id": "841271fa",
   "metadata": {
    "colab": {
     "base_uri": "https://localhost:8080/",
     "height": 81
    },
    "id": "841271fa",
    "outputId": "62209c60-18c9-488f-ead3-2c1ff8d3531c"
   },
   "outputs": [
    {
     "data": {
      "text/html": [
       "<div>\n",
       "<style scoped>\n",
       "    .dataframe tbody tr th:only-of-type {\n",
       "        vertical-align: middle;\n",
       "    }\n",
       "\n",
       "    .dataframe tbody tr th {\n",
       "        vertical-align: top;\n",
       "    }\n",
       "\n",
       "    .dataframe thead th {\n",
       "        text-align: right;\n",
       "    }\n",
       "</style>\n",
       "<table border=\"1\" class=\"dataframe\">\n",
       "  <thead>\n",
       "    <tr style=\"text-align: right;\">\n",
       "      <th></th>\n",
       "      <th>Model</th>\n",
       "      <th>MAE</th>\n",
       "      <th>MSE</th>\n",
       "      <th>RMSE</th>\n",
       "      <th>RSS</th>\n",
       "      <th>r2_score</th>\n",
       "    </tr>\n",
       "  </thead>\n",
       "  <tbody>\n",
       "    <tr>\n",
       "      <th>0</th>\n",
       "      <td>lasso regression</td>\n",
       "      <td>0.25994</td>\n",
       "      <td>0.085926</td>\n",
       "      <td>0.293131</td>\n",
       "      <td>48.290299</td>\n",
       "      <td>-0.000793</td>\n",
       "    </tr>\n",
       "  </tbody>\n",
       "</table>\n",
       "</div>"
      ],
      "text/plain": [
       "              Model      MAE       MSE      RMSE        RSS  r2_score\n",
       "0  lasso regression  0.25994  0.085926  0.293131  48.290299 -0.000793"
      ]
     },
     "execution_count": 105,
     "metadata": {},
     "output_type": "execute_result"
    }
   ],
   "source": [
    "model_results"
   ]
  },
  {
   "cell_type": "code",
   "execution_count": 106,
   "id": "81373b49",
   "metadata": {
    "colab": {
     "base_uri": "https://localhost:8080/",
     "height": 455
    },
    "id": "81373b49",
    "outputId": "ecc0219c-5544-4028-b4f0-e22876339917"
   },
   "outputs": [
    {
     "data": {
      "text/html": [
       "<div>\n",
       "<style scoped>\n",
       "    .dataframe tbody tr th:only-of-type {\n",
       "        vertical-align: middle;\n",
       "    }\n",
       "\n",
       "    .dataframe tbody tr th {\n",
       "        vertical-align: top;\n",
       "    }\n",
       "\n",
       "    .dataframe thead th {\n",
       "        text-align: right;\n",
       "    }\n",
       "</style>\n",
       "<table border=\"1\" class=\"dataframe\">\n",
       "  <thead>\n",
       "    <tr style=\"text-align: right;\">\n",
       "      <th></th>\n",
       "      <th>actual_values</th>\n",
       "      <th>predictions</th>\n",
       "    </tr>\n",
       "    <tr>\n",
       "      <th>Year</th>\n",
       "      <th></th>\n",
       "      <th></th>\n",
       "    </tr>\n",
       "  </thead>\n",
       "  <tbody>\n",
       "    <tr>\n",
       "      <th>2012</th>\n",
       "      <td>15.867389</td>\n",
       "      <td>64.848649</td>\n",
       "    </tr>\n",
       "    <tr>\n",
       "      <th>2012</th>\n",
       "      <td>76.751460</td>\n",
       "      <td>64.848649</td>\n",
       "    </tr>\n",
       "    <tr>\n",
       "      <th>2012</th>\n",
       "      <td>98.436197</td>\n",
       "      <td>64.848649</td>\n",
       "    </tr>\n",
       "    <tr>\n",
       "      <th>2012</th>\n",
       "      <td>98.957465</td>\n",
       "      <td>64.848649</td>\n",
       "    </tr>\n",
       "    <tr>\n",
       "      <th>2012</th>\n",
       "      <td>82.631359</td>\n",
       "      <td>64.848649</td>\n",
       "    </tr>\n",
       "    <tr>\n",
       "      <th>...</th>\n",
       "      <td>...</td>\n",
       "      <td>...</td>\n",
       "    </tr>\n",
       "    <tr>\n",
       "      <th>2021</th>\n",
       "      <td>99.207673</td>\n",
       "      <td>64.848649</td>\n",
       "    </tr>\n",
       "    <tr>\n",
       "      <th>2021</th>\n",
       "      <td>99.020017</td>\n",
       "      <td>64.848649</td>\n",
       "    </tr>\n",
       "    <tr>\n",
       "      <th>2021</th>\n",
       "      <td>94.109675</td>\n",
       "      <td>64.848649</td>\n",
       "    </tr>\n",
       "    <tr>\n",
       "      <th>2021</th>\n",
       "      <td>97.581318</td>\n",
       "      <td>64.848649</td>\n",
       "    </tr>\n",
       "    <tr>\n",
       "      <th>2021</th>\n",
       "      <td>85.633862</td>\n",
       "      <td>64.848649</td>\n",
       "    </tr>\n",
       "  </tbody>\n",
       "</table>\n",
       "<p>562 rows × 2 columns</p>\n",
       "</div>"
      ],
      "text/plain": [
       "      actual_values  predictions\n",
       "Year                            \n",
       "2012      15.867389    64.848649\n",
       "2012      76.751460    64.848649\n",
       "2012      98.436197    64.848649\n",
       "2012      98.957465    64.848649\n",
       "2012      82.631359    64.848649\n",
       "...             ...          ...\n",
       "2021      99.207673    64.848649\n",
       "2021      99.020017    64.848649\n",
       "2021      94.109675    64.848649\n",
       "2021      97.581318    64.848649\n",
       "2021      85.633862    64.848649\n",
       "\n",
       "[562 rows x 2 columns]"
      ]
     },
     "execution_count": 106,
     "metadata": {},
     "output_type": "execute_result"
    }
   ],
   "source": [
    "lasso_df = pd.DataFrame(data ={\"actual_values\": y_test * 100, \"predictions\":lasso_predictions * 100})\n",
    "lasso_df.sort_index(ascending=True, inplace=True)\n",
    "lasso_df"
   ]
  },
  {
   "cell_type": "markdown",
   "id": "ANxFhl_VoCTy",
   "metadata": {
    "id": "ANxFhl_VoCTy"
   },
   "source": [
    "#### GradientBoostingRegressor"
   ]
  },
  {
   "cell_type": "code",
   "execution_count": 127,
   "id": "ed79910b",
   "metadata": {
    "colab": {
     "base_uri": "https://localhost:8080/"
    },
    "id": "ed79910b",
    "outputId": "f5fe99f4-a53d-4213-c72b-e5914fda45fd"
   },
   "outputs": [
    {
     "name": "stdout",
     "output_type": "stream",
     "text": [
      "Training took 0.30 seconds.\n"
     ]
    }
   ],
   "source": [
    "from sklearn.ensemble import GradientBoostingRegressor\n",
    "\n",
    "\n",
    "# Record start time\n",
    "start_time = time.time()\n",
    "\n",
    "Gbr = GradientBoostingRegressor(learning_rate= 1.0, loss= 'squared_error', n_estimators= 25)\n",
    "Gbr.fit(x_train,y_train)\n",
    "\n",
    "# Record end time\n",
    "end_time = time.time()\n",
    "\n",
    "# Calculate elapsed time\n",
    "elapsed_time = end_time - start_time\n",
    "\n",
    "# Display training time\n",
    "print(\"Training took {:.2f} seconds.\".format(elapsed_time))\n",
    "\n"
   ]
  },
  {
   "cell_type": "code",
   "execution_count": 128,
   "id": "16fe141d",
   "metadata": {
    "id": "16fe141d"
   },
   "outputs": [],
   "source": [
    "Gbr_predictions  = Gbr.predict(x_test)"
   ]
  },
  {
   "cell_type": "code",
   "execution_count": 129,
   "id": "fdccce00",
   "metadata": {
    "id": "fdccce00"
   },
   "outputs": [],
   "source": [
    "# getting the Gradient boosting model results\n",
    "Gbr_r2 = r2_score(y_test, Gbr_predictions)\n",
    "Gbr_mse = mean_squared_error( y_test,Gbr_predictions)\n",
    "Gbr_rmse = np.sqrt(Gbr_mse)\n",
    "Gbr_mae = mean_absolute_error(y_test,Gbr_predictions)\n",
    "Gbr_rss = np.sum(np.square(y_test - Gbr_predictions))"
   ]
  },
  {
   "cell_type": "code",
   "execution_count": 130,
   "id": "ec47f30b",
   "metadata": {
    "id": "ec47f30b"
   },
   "outputs": [],
   "source": [
    "model_results = pd.DataFrame([['GBR regression', Gbr_mae, Gbr_mse, Gbr_rmse, Gbr_rss, Gbr_r2]],\n",
    "               columns = ['Model', 'MAE', 'MSE', 'RMSE', 'RSS','r2_score'])\n",
    "results = pd.concat([results, model_results], ignore_index=True)"
   ]
  },
  {
   "cell_type": "code",
   "execution_count": 131,
   "id": "9e57797c",
   "metadata": {
    "colab": {
     "base_uri": "https://localhost:8080/",
     "height": 81
    },
    "id": "9e57797c",
    "outputId": "e4c8f747-344d-4e3c-9a04-9808f132918b"
   },
   "outputs": [
    {
     "data": {
      "text/html": [
       "<div>\n",
       "<style scoped>\n",
       "    .dataframe tbody tr th:only-of-type {\n",
       "        vertical-align: middle;\n",
       "    }\n",
       "\n",
       "    .dataframe tbody tr th {\n",
       "        vertical-align: top;\n",
       "    }\n",
       "\n",
       "    .dataframe thead th {\n",
       "        text-align: right;\n",
       "    }\n",
       "</style>\n",
       "<table border=\"1\" class=\"dataframe\">\n",
       "  <thead>\n",
       "    <tr style=\"text-align: right;\">\n",
       "      <th></th>\n",
       "      <th>Model</th>\n",
       "      <th>MAE</th>\n",
       "      <th>MSE</th>\n",
       "      <th>RMSE</th>\n",
       "      <th>RSS</th>\n",
       "      <th>r2_score</th>\n",
       "    </tr>\n",
       "  </thead>\n",
       "  <tbody>\n",
       "    <tr>\n",
       "      <th>0</th>\n",
       "      <td>GBR regression</td>\n",
       "      <td>0.096169</td>\n",
       "      <td>0.017762</td>\n",
       "      <td>0.133272</td>\n",
       "      <td>9.981966</td>\n",
       "      <td>0.793129</td>\n",
       "    </tr>\n",
       "  </tbody>\n",
       "</table>\n",
       "</div>"
      ],
      "text/plain": [
       "            Model       MAE       MSE      RMSE       RSS  r2_score\n",
       "0  GBR regression  0.096169  0.017762  0.133272  9.981966  0.793129"
      ]
     },
     "execution_count": 131,
     "metadata": {},
     "output_type": "execute_result"
    }
   ],
   "source": [
    "model_results"
   ]
  },
  {
   "cell_type": "code",
   "execution_count": 132,
   "id": "25e8e9b3",
   "metadata": {
    "colab": {
     "base_uri": "https://localhost:8080/",
     "height": 455
    },
    "id": "25e8e9b3",
    "outputId": "ec137061-703e-4117-9200-f49eb1524c55"
   },
   "outputs": [
    {
     "data": {
      "text/html": [
       "<div>\n",
       "<style scoped>\n",
       "    .dataframe tbody tr th:only-of-type {\n",
       "        vertical-align: middle;\n",
       "    }\n",
       "\n",
       "    .dataframe tbody tr th {\n",
       "        vertical-align: top;\n",
       "    }\n",
       "\n",
       "    .dataframe thead th {\n",
       "        text-align: right;\n",
       "    }\n",
       "</style>\n",
       "<table border=\"1\" class=\"dataframe\">\n",
       "  <thead>\n",
       "    <tr style=\"text-align: right;\">\n",
       "      <th></th>\n",
       "      <th>actual_values</th>\n",
       "      <th>predictions</th>\n",
       "    </tr>\n",
       "    <tr>\n",
       "      <th>Year</th>\n",
       "      <th></th>\n",
       "      <th></th>\n",
       "    </tr>\n",
       "  </thead>\n",
       "  <tbody>\n",
       "    <tr>\n",
       "      <th>2012</th>\n",
       "      <td>15.867389</td>\n",
       "      <td>64.848649</td>\n",
       "    </tr>\n",
       "    <tr>\n",
       "      <th>2012</th>\n",
       "      <td>76.751460</td>\n",
       "      <td>64.848649</td>\n",
       "    </tr>\n",
       "    <tr>\n",
       "      <th>2012</th>\n",
       "      <td>98.436197</td>\n",
       "      <td>64.848649</td>\n",
       "    </tr>\n",
       "    <tr>\n",
       "      <th>2012</th>\n",
       "      <td>98.957465</td>\n",
       "      <td>64.848649</td>\n",
       "    </tr>\n",
       "    <tr>\n",
       "      <th>2012</th>\n",
       "      <td>82.631359</td>\n",
       "      <td>64.848649</td>\n",
       "    </tr>\n",
       "    <tr>\n",
       "      <th>...</th>\n",
       "      <td>...</td>\n",
       "      <td>...</td>\n",
       "    </tr>\n",
       "    <tr>\n",
       "      <th>2021</th>\n",
       "      <td>99.207673</td>\n",
       "      <td>64.848649</td>\n",
       "    </tr>\n",
       "    <tr>\n",
       "      <th>2021</th>\n",
       "      <td>99.020017</td>\n",
       "      <td>64.848649</td>\n",
       "    </tr>\n",
       "    <tr>\n",
       "      <th>2021</th>\n",
       "      <td>94.109675</td>\n",
       "      <td>64.848649</td>\n",
       "    </tr>\n",
       "    <tr>\n",
       "      <th>2021</th>\n",
       "      <td>97.581318</td>\n",
       "      <td>64.848649</td>\n",
       "    </tr>\n",
       "    <tr>\n",
       "      <th>2021</th>\n",
       "      <td>85.633862</td>\n",
       "      <td>64.848649</td>\n",
       "    </tr>\n",
       "  </tbody>\n",
       "</table>\n",
       "<p>562 rows × 2 columns</p>\n",
       "</div>"
      ],
      "text/plain": [
       "      actual_values  predictions\n",
       "Year                            \n",
       "2012      15.867389    64.848649\n",
       "2012      76.751460    64.848649\n",
       "2012      98.436197    64.848649\n",
       "2012      98.957465    64.848649\n",
       "2012      82.631359    64.848649\n",
       "...             ...          ...\n",
       "2021      99.207673    64.848649\n",
       "2021      99.020017    64.848649\n",
       "2021      94.109675    64.848649\n",
       "2021      97.581318    64.848649\n",
       "2021      85.633862    64.848649\n",
       "\n",
       "[562 rows x 2 columns]"
      ]
     },
     "execution_count": 132,
     "metadata": {},
     "output_type": "execute_result"
    }
   ],
   "source": [
    "Gbr_df = pd.DataFrame(data ={\"actual_values\": y_test * 100, \"predictions\":lasso_predictions * 100})\n",
    "Gbr_df.sort_index(ascending=True, inplace=True)\n",
    "Gbr_df"
   ]
  },
  {
   "cell_type": "code",
   "execution_count": 133,
   "id": "ef2cb84d",
   "metadata": {
    "colab": {
     "base_uri": "https://localhost:8080/",
     "height": 175
    },
    "id": "ef2cb84d",
    "outputId": "efaccb6d-1668-49e0-d066-d5e1d3c6ef89"
   },
   "outputs": [
    {
     "data": {
      "text/html": [
       "<div>\n",
       "<style scoped>\n",
       "    .dataframe tbody tr th:only-of-type {\n",
       "        vertical-align: middle;\n",
       "    }\n",
       "\n",
       "    .dataframe tbody tr th {\n",
       "        vertical-align: top;\n",
       "    }\n",
       "\n",
       "    .dataframe thead th {\n",
       "        text-align: right;\n",
       "    }\n",
       "</style>\n",
       "<table border=\"1\" class=\"dataframe\">\n",
       "  <thead>\n",
       "    <tr style=\"text-align: right;\">\n",
       "      <th></th>\n",
       "      <th>Model</th>\n",
       "      <th>MAE</th>\n",
       "      <th>MSE</th>\n",
       "      <th>RMSE</th>\n",
       "      <th>RSS</th>\n",
       "      <th>r2_score</th>\n",
       "    </tr>\n",
       "  </thead>\n",
       "  <tbody>\n",
       "    <tr>\n",
       "      <th>0</th>\n",
       "      <td>Linear regression</td>\n",
       "      <td>0.125418</td>\n",
       "      <td>0.025266</td>\n",
       "      <td>0.158952</td>\n",
       "      <td>14.199327</td>\n",
       "      <td>0.705726</td>\n",
       "    </tr>\n",
       "    <tr>\n",
       "      <th>1</th>\n",
       "      <td>Ridge regression</td>\n",
       "      <td>0.126383</td>\n",
       "      <td>0.025360</td>\n",
       "      <td>0.159249</td>\n",
       "      <td>14.252524</td>\n",
       "      <td>0.704623</td>\n",
       "    </tr>\n",
       "    <tr>\n",
       "      <th>2</th>\n",
       "      <td>lasso regression</td>\n",
       "      <td>0.259940</td>\n",
       "      <td>0.085926</td>\n",
       "      <td>0.293131</td>\n",
       "      <td>48.290299</td>\n",
       "      <td>-0.000793</td>\n",
       "    </tr>\n",
       "    <tr>\n",
       "      <th>3</th>\n",
       "      <td>GBR regression</td>\n",
       "      <td>0.083844</td>\n",
       "      <td>0.013787</td>\n",
       "      <td>0.117420</td>\n",
       "      <td>7.748509</td>\n",
       "      <td>0.839416</td>\n",
       "    </tr>\n",
       "  </tbody>\n",
       "</table>\n",
       "</div>"
      ],
      "text/plain": [
       "               Model       MAE       MSE      RMSE        RSS  r2_score\n",
       "0  Linear regression  0.125418  0.025266  0.158952  14.199327  0.705726\n",
       "1   Ridge regression  0.126383  0.025360  0.159249  14.252524  0.704623\n",
       "2   lasso regression  0.259940  0.085926  0.293131  48.290299 -0.000793\n",
       "3     GBR regression  0.083844  0.013787  0.117420   7.748509  0.839416"
      ]
     },
     "execution_count": 133,
     "metadata": {},
     "output_type": "execute_result"
    }
   ],
   "source": [
    "# Printing the stored results of all the three models\n",
    "results.drop_duplicates().head(4)\n"
   ]
  },
  {
   "cell_type": "markdown",
   "id": "f9e38ac9",
   "metadata": {
    "id": "f9e38ac9"
   },
   "source": [
    "### conclusion\n",
    "> Based on the results presented above, it is evident that the Ridge regression model exhibits the most favorable performance. This conclusion is drawn from the fact that the model achieves a mean_absolute_error of 0.1263. This value approaching zero signifies a strong indication of optimal performance within the context of regression modeling.\n",
    "\n",
    "\n",
    "\n",
    "\n"
   ]
  },
  {
   "cell_type": "code",
   "execution_count": 134,
   "id": "fd72233b",
   "metadata": {
    "id": "fd72233b"
   },
   "outputs": [],
   "source": [
    "# creating pickle file for deployment\n",
    "file = open('pickledlower_Gbr.pkl', 'wb')\n",
    "pickle.dump(Gbr, file)"
   ]
  },
  {
   "cell_type": "code",
   "execution_count": null,
   "id": "WxXM3Umv6BZK",
   "metadata": {
    "id": "WxXM3Umv6BZK"
   },
   "outputs": [],
   "source": []
  }
 ],
 "metadata": {
  "colab": {
   "provenance": []
  },
  "kernelspec": {
   "display_name": "Python 3 (ipykernel)",
   "language": "python",
   "name": "python3"
  },
  "language_info": {
   "codemirror_mode": {
    "name": "ipython",
    "version": 3
   },
   "file_extension": ".py",
   "mimetype": "text/x-python",
   "name": "python",
   "nbconvert_exporter": "python",
   "pygments_lexer": "ipython3",
   "version": "3.10.9"
  }
 },
 "nbformat": 4,
 "nbformat_minor": 5
}
