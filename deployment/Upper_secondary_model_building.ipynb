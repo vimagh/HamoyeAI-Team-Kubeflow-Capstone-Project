{
 "cells": [
  {
   "cell_type": "markdown",
   "id": "d82f9f20",
   "metadata": {
    "id": "d82f9f20"
   },
   "source": [
    "# Operations Perfomed:\n",
    "> 1. Reading in the Upper_Secondary school data\n",
    "> 2. Rescaling the data to prevent data redundancy and to get optimal model performance\n",
    "> 3. Hypertuning of models' performance for optimal model perfomance\n",
    "> 4. Model building on the training datasets, evaluation on the testing sets using various regression techniques such as: Linear, Ridge, Lasso, and Gradient boost regression\n",
    "> 5. Evaluation of models using various metrics in regression such as mean_absolute_error, mean_squared_error root_mean_squared_error, r2_score, residual_sum of squares to evaluate model performance\n",
    "> 6. Performed comparison on the model between the actual values and the predicted values\n",
    "\n",
    "\n"
   ]
  },
  {
   "cell_type": "code",
   "execution_count": 1,
   "id": "2bcd8f94",
   "metadata": {
    "id": "2bcd8f94"
   },
   "outputs": [],
   "source": [
    "import pandas as pd\n",
    "import pickle\n",
    "import numpy as np\n",
    "import seaborn as sns\n",
    "import matplotlib.pyplot as plt\n",
    "from sklearn.model_selection import GridSearchCV\n",
    "from sklearn.linear_model import LinearRegression, Ridge, Lasso\n",
    "from sklearn.neighbors import KNeighborsRegressor\n",
    "from sklearn.tree import DecisionTreeRegressor\n",
    "from sklearn.preprocessing import MinMaxScaler\n",
    "from sklearn.model_selection import train_test_split\n",
    "from sklearn.metrics import mean_absolute_error\n",
    "from sklearn.metrics import mean_squared_error\n",
    "from sklearn.metrics import r2_score\n",
    "import warnings\n",
    "warnings.filterwarnings('ignore')\n"
   ]
  },
  {
   "cell_type": "code",
   "execution_count": 89,
   "id": "984d2d2b",
   "metadata": {
    "id": "984d2d2b"
   },
   "outputs": [],
   "source": [
    "df= pd.read_csv(r'Scaled_Upper_Secondary_edu.csv')"
   ]
  },
  {
   "cell_type": "code",
   "execution_count": 90,
   "id": "4aea929d",
   "metadata": {
    "colab": {
     "base_uri": "https://localhost:8080/",
     "height": 302
    },
    "id": "4aea929d",
    "outputId": "bda64902-aa0a-47ac-82f8-44a7b4d82905"
   },
   "outputs": [
    {
     "data": {
      "text/html": [
       "<div>\n",
       "<style scoped>\n",
       "    .dataframe tbody tr th:only-of-type {\n",
       "        vertical-align: middle;\n",
       "    }\n",
       "\n",
       "    .dataframe tbody tr th {\n",
       "        vertical-align: top;\n",
       "    }\n",
       "\n",
       "    .dataframe thead th {\n",
       "        text-align: right;\n",
       "    }\n",
       "</style>\n",
       "<table border=\"1\" class=\"dataframe\">\n",
       "  <thead>\n",
       "    <tr style=\"text-align: right;\">\n",
       "      <th></th>\n",
       "      <th>Year</th>\n",
       "      <th>Completion Rate for upper secondary Edu</th>\n",
       "      <th>Childhood Education GER</th>\n",
       "      <th>Gross enrolment ratio, early childhood educational development programmes</th>\n",
       "      <th>Literacy rate for 25-64 years old</th>\n",
       "      <th>Expenditure on education as a percentage of total government expenditure (%)</th>\n",
       "      <th>Government expenditure on education as a percentage of GDP (%)</th>\n",
       "      <th>Central Asia</th>\n",
       "      <th>Central and Southern Asia</th>\n",
       "      <th>Eastern and South-Eastern Asia</th>\n",
       "      <th>Europe and Northern America</th>\n",
       "      <th>Latin America and the Caribbean</th>\n",
       "      <th>Northern Africa and Western Asia</th>\n",
       "      <th>Oceania</th>\n",
       "      <th>Southern Asia</th>\n",
       "      <th>Sub-Saharan Africa</th>\n",
       "      <th>Gender_numerical</th>\n",
       "    </tr>\n",
       "  </thead>\n",
       "  <tbody>\n",
       "    <tr>\n",
       "      <th>0</th>\n",
       "      <td>2012</td>\n",
       "      <td>96.9</td>\n",
       "      <td>47.348558</td>\n",
       "      <td>5.871662</td>\n",
       "      <td>68.735</td>\n",
       "      <td>19.25</td>\n",
       "      <td>3.90</td>\n",
       "      <td>1.0</td>\n",
       "      <td>0.0</td>\n",
       "      <td>0.0</td>\n",
       "      <td>0.0</td>\n",
       "      <td>0.0</td>\n",
       "      <td>0.0</td>\n",
       "      <td>0.0</td>\n",
       "      <td>0.0</td>\n",
       "      <td>0.0</td>\n",
       "      <td>1</td>\n",
       "    </tr>\n",
       "    <tr>\n",
       "      <th>1</th>\n",
       "      <td>2012</td>\n",
       "      <td>96.2</td>\n",
       "      <td>47.348558</td>\n",
       "      <td>5.871662</td>\n",
       "      <td>68.735</td>\n",
       "      <td>19.25</td>\n",
       "      <td>3.90</td>\n",
       "      <td>1.0</td>\n",
       "      <td>0.0</td>\n",
       "      <td>0.0</td>\n",
       "      <td>0.0</td>\n",
       "      <td>0.0</td>\n",
       "      <td>0.0</td>\n",
       "      <td>0.0</td>\n",
       "      <td>0.0</td>\n",
       "      <td>0.0</td>\n",
       "      <td>0</td>\n",
       "    </tr>\n",
       "    <tr>\n",
       "      <th>2</th>\n",
       "      <td>2013</td>\n",
       "      <td>97.0</td>\n",
       "      <td>47.348558</td>\n",
       "      <td>5.871662</td>\n",
       "      <td>68.735</td>\n",
       "      <td>17.96</td>\n",
       "      <td>3.44</td>\n",
       "      <td>1.0</td>\n",
       "      <td>0.0</td>\n",
       "      <td>0.0</td>\n",
       "      <td>0.0</td>\n",
       "      <td>0.0</td>\n",
       "      <td>0.0</td>\n",
       "      <td>0.0</td>\n",
       "      <td>0.0</td>\n",
       "      <td>0.0</td>\n",
       "      <td>1</td>\n",
       "    </tr>\n",
       "  </tbody>\n",
       "</table>\n",
       "</div>"
      ],
      "text/plain": [
       "   Year  Completion Rate for upper secondary Edu  Childhood Education GER  \\\n",
       "0  2012                                     96.9                47.348558   \n",
       "1  2012                                     96.2                47.348558   \n",
       "2  2013                                     97.0                47.348558   \n",
       "\n",
       "   Gross enrolment ratio, early childhood educational development programmes  \\\n",
       "0                                           5.871662                           \n",
       "1                                           5.871662                           \n",
       "2                                           5.871662                           \n",
       "\n",
       "   Literacy rate for 25-64 years old  \\\n",
       "0                             68.735   \n",
       "1                             68.735   \n",
       "2                             68.735   \n",
       "\n",
       "   Expenditure on education as a percentage of total government expenditure (%)  \\\n",
       "0                                              19.25                              \n",
       "1                                              19.25                              \n",
       "2                                              17.96                              \n",
       "\n",
       "   Government expenditure on education as a percentage of GDP (%)  \\\n",
       "0                                               3.90                \n",
       "1                                               3.90                \n",
       "2                                               3.44                \n",
       "\n",
       "   Central Asia  Central and Southern Asia  Eastern and South-Eastern Asia  \\\n",
       "0           1.0                        0.0                             0.0   \n",
       "1           1.0                        0.0                             0.0   \n",
       "2           1.0                        0.0                             0.0   \n",
       "\n",
       "   Europe and Northern America  Latin America and the Caribbean  \\\n",
       "0                          0.0                              0.0   \n",
       "1                          0.0                              0.0   \n",
       "2                          0.0                              0.0   \n",
       "\n",
       "   Northern Africa and Western Asia  Oceania  Southern Asia  \\\n",
       "0                               0.0      0.0            0.0   \n",
       "1                               0.0      0.0            0.0   \n",
       "2                               0.0      0.0            0.0   \n",
       "\n",
       "   Sub-Saharan Africa  Gender_numerical  \n",
       "0                 0.0                 1  \n",
       "1                 0.0                 0  \n",
       "2                 0.0                 1  "
      ]
     },
     "execution_count": 90,
     "metadata": {},
     "output_type": "execute_result"
    }
   ],
   "source": [
    "df.head(3)"
   ]
  },
  {
   "cell_type": "code",
   "execution_count": 91,
   "id": "1edd571b",
   "metadata": {},
   "outputs": [],
   "source": [
    "df.rename(columns = {'Childhood Education GER':'Childhood_Education_GER', 'Gross enrolment ratio, early childhood educational development programmes':'Gross_enrolment_ratio_early_childhood_educational_development_programmes',\n",
    "                    'Literacy rate for 25-64 years old':'Literacy_rate_for_25_64_years_old', 'Expenditure on education as a percentage of total government expenditure (%)':'Expenditure_on_education_as_a_percentage_of_total_government_expenditure',\n",
    "                    'Government expenditure on education as a percentage of GDP (%)':'Government_expenditure_on_education_as_a_percentage_of_GDP',\n",
    "                    'Central Asia':'Central_Asia', 'Central and Southern Asia':'Central_and_Southern_Asia', 'Eastern and South-Eastern Asia':'Eastern_and_South_Eastern_Asia',\n",
    "                    'Europe and Northern America':'Europe_and_Northern_America', 'Latin America and the Caribbean':'Latin_America_and_the_Caribbean',\n",
    "                    'Northern Africa and Western Asia':'Northern_Africa_and_Western_Asia', 'Oceania':'Oceania', 'Southern Asia': 'Southern_Asia', 'Sub-Saharan_Africa':'Sub_Saharan_Africa','Gender_numerical':'Gender_numerical'}, inplace = True)"
   ]
  },
  {
   "cell_type": "code",
   "execution_count": 55,
   "id": "4d1da878",
   "metadata": {},
   "outputs": [
    {
     "name": "stdout",
     "output_type": "stream",
     "text": [
      "<class 'pandas.core.frame.DataFrame'>\n",
      "RangeIndex: 1876 entries, 0 to 1875\n",
      "Data columns (total 17 columns):\n",
      " #   Column                                                                    Non-Null Count  Dtype  \n",
      "---  ------                                                                    --------------  -----  \n",
      " 0   Year                                                                      1876 non-null   int64  \n",
      " 1   Completion Rate for upper secondary Edu                                   1876 non-null   float64\n",
      " 2   Childhood_Education_GER                                                   1876 non-null   float64\n",
      " 3   Gross_enrolment_ratio_early_childhood_educational_development_programmes  1876 non-null   float64\n",
      " 4   Literacy_rate_for_25_64_years_old                                         1876 non-null   float64\n",
      " 5   Expenditure_on_education_as_a_percentage_of_total_government_expenditure  1876 non-null   float64\n",
      " 6   Government_expenditure_on_education_as_a_percentage_of_GDP                1876 non-null   float64\n",
      " 7   Central_Asia                                                              1876 non-null   float64\n",
      " 8   Central_and_Southern_Asia                                                 1876 non-null   float64\n",
      " 9   Eastern_and_South_Eastern_Asia                                            1876 non-null   float64\n",
      " 10  Europe_and_Northern_America                                               1876 non-null   float64\n",
      " 11  Latin_America_and_the_Caribbean                                           1876 non-null   float64\n",
      " 12  Northern_Africa_and_Western_Asia                                          1876 non-null   float64\n",
      " 13  Oceania                                                                   1876 non-null   float64\n",
      " 14  Southern_Asia                                                             1876 non-null   float64\n",
      " 15  Sub-Saharan Africa                                                        1876 non-null   float64\n",
      " 16  Gender_numerical                                                          1876 non-null   int64  \n",
      "dtypes: float64(15), int64(2)\n",
      "memory usage: 249.3 KB\n"
     ]
    }
   ],
   "source": [
    "df.info()"
   ]
  },
  {
   "cell_type": "markdown",
   "id": "aac164bb",
   "metadata": {
    "id": "aac164bb"
   },
   "source": [
    "## Data Transformation\n",
    "\n",
    "#### 1. Data Rescaling"
   ]
  },
  {
   "cell_type": "code",
   "execution_count": 92,
   "id": "98b3c077",
   "metadata": {
    "colab": {
     "base_uri": "https://localhost:8080/",
     "height": 396
    },
    "id": "98b3c077",
    "outputId": "153906df-42b2-4242-ec8c-a65f6eab9a54"
   },
   "outputs": [
    {
     "data": {
      "text/html": [
       "<div>\n",
       "<style scoped>\n",
       "    .dataframe tbody tr th:only-of-type {\n",
       "        vertical-align: middle;\n",
       "    }\n",
       "\n",
       "    .dataframe tbody tr th {\n",
       "        vertical-align: top;\n",
       "    }\n",
       "\n",
       "    .dataframe thead th {\n",
       "        text-align: right;\n",
       "    }\n",
       "</style>\n",
       "<table border=\"1\" class=\"dataframe\">\n",
       "  <thead>\n",
       "    <tr style=\"text-align: right;\">\n",
       "      <th></th>\n",
       "      <th>Completion Rate for upper secondary Edu</th>\n",
       "      <th>Childhood_Education_GER</th>\n",
       "      <th>Gross_enrolment_ratio_early_childhood_educational_development_programmes</th>\n",
       "      <th>Literacy_rate_for_25_64_years_old</th>\n",
       "      <th>Expenditure_on_education_as_a_percentage_of_total_government_expenditure</th>\n",
       "      <th>Government_expenditure_on_education_as_a_percentage_of_GDP</th>\n",
       "      <th>Central_Asia</th>\n",
       "      <th>Central_and_Southern_Asia</th>\n",
       "      <th>Eastern_and_South_Eastern_Asia</th>\n",
       "      <th>Europe_and_Northern_America</th>\n",
       "      <th>Latin_America_and_the_Caribbean</th>\n",
       "      <th>Northern_Africa_and_Western_Asia</th>\n",
       "      <th>Oceania</th>\n",
       "      <th>Southern_Asia</th>\n",
       "      <th>Sub-Saharan Africa</th>\n",
       "      <th>Gender_numerical</th>\n",
       "    </tr>\n",
       "    <tr>\n",
       "      <th>Year</th>\n",
       "      <th></th>\n",
       "      <th></th>\n",
       "      <th></th>\n",
       "      <th></th>\n",
       "      <th></th>\n",
       "      <th></th>\n",
       "      <th></th>\n",
       "      <th></th>\n",
       "      <th></th>\n",
       "      <th></th>\n",
       "      <th></th>\n",
       "      <th></th>\n",
       "      <th></th>\n",
       "      <th></th>\n",
       "      <th></th>\n",
       "      <th></th>\n",
       "    </tr>\n",
       "  </thead>\n",
       "  <tbody>\n",
       "    <tr>\n",
       "      <th>2012</th>\n",
       "      <td>96.9</td>\n",
       "      <td>47.348558</td>\n",
       "      <td>5.871662</td>\n",
       "      <td>68.735</td>\n",
       "      <td>19.25</td>\n",
       "      <td>3.90</td>\n",
       "      <td>1.0</td>\n",
       "      <td>0.0</td>\n",
       "      <td>0.0</td>\n",
       "      <td>0.0</td>\n",
       "      <td>0.0</td>\n",
       "      <td>0.0</td>\n",
       "      <td>0.0</td>\n",
       "      <td>0.0</td>\n",
       "      <td>0.0</td>\n",
       "      <td>1</td>\n",
       "    </tr>\n",
       "    <tr>\n",
       "      <th>2012</th>\n",
       "      <td>96.2</td>\n",
       "      <td>47.348558</td>\n",
       "      <td>5.871662</td>\n",
       "      <td>68.735</td>\n",
       "      <td>19.25</td>\n",
       "      <td>3.90</td>\n",
       "      <td>1.0</td>\n",
       "      <td>0.0</td>\n",
       "      <td>0.0</td>\n",
       "      <td>0.0</td>\n",
       "      <td>0.0</td>\n",
       "      <td>0.0</td>\n",
       "      <td>0.0</td>\n",
       "      <td>0.0</td>\n",
       "      <td>0.0</td>\n",
       "      <td>0</td>\n",
       "    </tr>\n",
       "    <tr>\n",
       "      <th>2013</th>\n",
       "      <td>97.0</td>\n",
       "      <td>47.348558</td>\n",
       "      <td>5.871662</td>\n",
       "      <td>68.735</td>\n",
       "      <td>17.96</td>\n",
       "      <td>3.44</td>\n",
       "      <td>1.0</td>\n",
       "      <td>0.0</td>\n",
       "      <td>0.0</td>\n",
       "      <td>0.0</td>\n",
       "      <td>0.0</td>\n",
       "      <td>0.0</td>\n",
       "      <td>0.0</td>\n",
       "      <td>0.0</td>\n",
       "      <td>0.0</td>\n",
       "      <td>1</td>\n",
       "    </tr>\n",
       "    <tr>\n",
       "      <th>2013</th>\n",
       "      <td>96.4</td>\n",
       "      <td>47.348558</td>\n",
       "      <td>5.871662</td>\n",
       "      <td>68.735</td>\n",
       "      <td>17.96</td>\n",
       "      <td>3.44</td>\n",
       "      <td>1.0</td>\n",
       "      <td>0.0</td>\n",
       "      <td>0.0</td>\n",
       "      <td>0.0</td>\n",
       "      <td>0.0</td>\n",
       "      <td>0.0</td>\n",
       "      <td>0.0</td>\n",
       "      <td>0.0</td>\n",
       "      <td>0.0</td>\n",
       "      <td>0</td>\n",
       "    </tr>\n",
       "    <tr>\n",
       "      <th>2014</th>\n",
       "      <td>97.2</td>\n",
       "      <td>36.650000</td>\n",
       "      <td>0.000000</td>\n",
       "      <td>68.735</td>\n",
       "      <td>17.32</td>\n",
       "      <td>3.42</td>\n",
       "      <td>1.0</td>\n",
       "      <td>0.0</td>\n",
       "      <td>0.0</td>\n",
       "      <td>0.0</td>\n",
       "      <td>0.0</td>\n",
       "      <td>0.0</td>\n",
       "      <td>0.0</td>\n",
       "      <td>0.0</td>\n",
       "      <td>0.0</td>\n",
       "      <td>1</td>\n",
       "    </tr>\n",
       "  </tbody>\n",
       "</table>\n",
       "</div>"
      ],
      "text/plain": [
       "      Completion Rate for upper secondary Edu  Childhood_Education_GER  \\\n",
       "Year                                                                     \n",
       "2012                                     96.9                47.348558   \n",
       "2012                                     96.2                47.348558   \n",
       "2013                                     97.0                47.348558   \n",
       "2013                                     96.4                47.348558   \n",
       "2014                                     97.2                36.650000   \n",
       "\n",
       "      Gross_enrolment_ratio_early_childhood_educational_development_programmes  \\\n",
       "Year                                                                             \n",
       "2012                                           5.871662                          \n",
       "2012                                           5.871662                          \n",
       "2013                                           5.871662                          \n",
       "2013                                           5.871662                          \n",
       "2014                                           0.000000                          \n",
       "\n",
       "      Literacy_rate_for_25_64_years_old  \\\n",
       "Year                                      \n",
       "2012                             68.735   \n",
       "2012                             68.735   \n",
       "2013                             68.735   \n",
       "2013                             68.735   \n",
       "2014                             68.735   \n",
       "\n",
       "      Expenditure_on_education_as_a_percentage_of_total_government_expenditure  \\\n",
       "Year                                                                             \n",
       "2012                                              19.25                          \n",
       "2012                                              19.25                          \n",
       "2013                                              17.96                          \n",
       "2013                                              17.96                          \n",
       "2014                                              17.32                          \n",
       "\n",
       "      Government_expenditure_on_education_as_a_percentage_of_GDP  \\\n",
       "Year                                                               \n",
       "2012                                               3.90            \n",
       "2012                                               3.90            \n",
       "2013                                               3.44            \n",
       "2013                                               3.44            \n",
       "2014                                               3.42            \n",
       "\n",
       "      Central_Asia  Central_and_Southern_Asia  Eastern_and_South_Eastern_Asia  \\\n",
       "Year                                                                            \n",
       "2012           1.0                        0.0                             0.0   \n",
       "2012           1.0                        0.0                             0.0   \n",
       "2013           1.0                        0.0                             0.0   \n",
       "2013           1.0                        0.0                             0.0   \n",
       "2014           1.0                        0.0                             0.0   \n",
       "\n",
       "      Europe_and_Northern_America  Latin_America_and_the_Caribbean  \\\n",
       "Year                                                                 \n",
       "2012                          0.0                              0.0   \n",
       "2012                          0.0                              0.0   \n",
       "2013                          0.0                              0.0   \n",
       "2013                          0.0                              0.0   \n",
       "2014                          0.0                              0.0   \n",
       "\n",
       "      Northern_Africa_and_Western_Asia  Oceania  Southern_Asia  \\\n",
       "Year                                                             \n",
       "2012                               0.0      0.0            0.0   \n",
       "2012                               0.0      0.0            0.0   \n",
       "2013                               0.0      0.0            0.0   \n",
       "2013                               0.0      0.0            0.0   \n",
       "2014                               0.0      0.0            0.0   \n",
       "\n",
       "      Sub-Saharan Africa  Gender_numerical  \n",
       "Year                                        \n",
       "2012                 0.0                 1  \n",
       "2012                 0.0                 0  \n",
       "2013                 0.0                 1  \n",
       "2013                 0.0                 0  \n",
       "2014                 0.0                 1  "
      ]
     },
     "execution_count": 92,
     "metadata": {},
     "output_type": "execute_result"
    }
   ],
   "source": [
    "# Data Rescaling\n",
    "\n",
    "data_col = df['Year']\n",
    "df.set_index('Year',inplace =True)\n",
    "\n",
    "df.head()\n"
   ]
  },
  {
   "cell_type": "code",
   "execution_count": 93,
   "id": "9aef0fbb",
   "metadata": {
    "colab": {
     "base_uri": "https://localhost:8080/",
     "height": 334
    },
    "id": "9aef0fbb",
    "outputId": "c183a577-71f2-42e6-992a-9c3d7b3c1adb"
   },
   "outputs": [
    {
     "data": {
      "text/html": [
       "<div>\n",
       "<style scoped>\n",
       "    .dataframe tbody tr th:only-of-type {\n",
       "        vertical-align: middle;\n",
       "    }\n",
       "\n",
       "    .dataframe tbody tr th {\n",
       "        vertical-align: top;\n",
       "    }\n",
       "\n",
       "    .dataframe thead th {\n",
       "        text-align: right;\n",
       "    }\n",
       "</style>\n",
       "<table border=\"1\" class=\"dataframe\">\n",
       "  <thead>\n",
       "    <tr style=\"text-align: right;\">\n",
       "      <th></th>\n",
       "      <th>Completion Rate for upper secondary Edu</th>\n",
       "      <th>Childhood_Education_GER</th>\n",
       "      <th>Gross_enrolment_ratio_early_childhood_educational_development_programmes</th>\n",
       "      <th>Literacy_rate_for_25_64_years_old</th>\n",
       "      <th>Expenditure_on_education_as_a_percentage_of_total_government_expenditure</th>\n",
       "      <th>Government_expenditure_on_education_as_a_percentage_of_GDP</th>\n",
       "      <th>Central_Asia</th>\n",
       "      <th>Central_and_Southern_Asia</th>\n",
       "      <th>Eastern_and_South_Eastern_Asia</th>\n",
       "      <th>Europe_and_Northern_America</th>\n",
       "      <th>Latin_America_and_the_Caribbean</th>\n",
       "      <th>Northern_Africa_and_Western_Asia</th>\n",
       "      <th>Oceania</th>\n",
       "      <th>Southern_Asia</th>\n",
       "      <th>Sub-Saharan Africa</th>\n",
       "      <th>Gender_numerical</th>\n",
       "    </tr>\n",
       "    <tr>\n",
       "      <th>Year</th>\n",
       "      <th></th>\n",
       "      <th></th>\n",
       "      <th></th>\n",
       "      <th></th>\n",
       "      <th></th>\n",
       "      <th></th>\n",
       "      <th></th>\n",
       "      <th></th>\n",
       "      <th></th>\n",
       "      <th></th>\n",
       "      <th></th>\n",
       "      <th></th>\n",
       "      <th></th>\n",
       "      <th></th>\n",
       "      <th></th>\n",
       "      <th></th>\n",
       "    </tr>\n",
       "  </thead>\n",
       "  <tbody>\n",
       "    <tr>\n",
       "      <th>2012</th>\n",
       "      <td>0.985625</td>\n",
       "      <td>0.291174</td>\n",
       "      <td>0.062772</td>\n",
       "      <td>0.657782</td>\n",
       "      <td>0.482729</td>\n",
       "      <td>0.286765</td>\n",
       "      <td>1.0</td>\n",
       "      <td>0.0</td>\n",
       "      <td>0.0</td>\n",
       "      <td>0.0</td>\n",
       "      <td>0.0</td>\n",
       "      <td>0.0</td>\n",
       "      <td>0.0</td>\n",
       "      <td>0.0</td>\n",
       "      <td>0.0</td>\n",
       "      <td>1.0</td>\n",
       "    </tr>\n",
       "    <tr>\n",
       "      <th>2012</th>\n",
       "      <td>0.978437</td>\n",
       "      <td>0.291174</td>\n",
       "      <td>0.062772</td>\n",
       "      <td>0.657782</td>\n",
       "      <td>0.482729</td>\n",
       "      <td>0.286765</td>\n",
       "      <td>1.0</td>\n",
       "      <td>0.0</td>\n",
       "      <td>0.0</td>\n",
       "      <td>0.0</td>\n",
       "      <td>0.0</td>\n",
       "      <td>0.0</td>\n",
       "      <td>0.0</td>\n",
       "      <td>0.0</td>\n",
       "      <td>0.0</td>\n",
       "      <td>0.0</td>\n",
       "    </tr>\n",
       "    <tr>\n",
       "      <th>2013</th>\n",
       "      <td>0.986652</td>\n",
       "      <td>0.291174</td>\n",
       "      <td>0.062772</td>\n",
       "      <td>0.657782</td>\n",
       "      <td>0.446206</td>\n",
       "      <td>0.252941</td>\n",
       "      <td>1.0</td>\n",
       "      <td>0.0</td>\n",
       "      <td>0.0</td>\n",
       "      <td>0.0</td>\n",
       "      <td>0.0</td>\n",
       "      <td>0.0</td>\n",
       "      <td>0.0</td>\n",
       "      <td>0.0</td>\n",
       "      <td>0.0</td>\n",
       "      <td>1.0</td>\n",
       "    </tr>\n",
       "  </tbody>\n",
       "</table>\n",
       "</div>"
      ],
      "text/plain": [
       "      Completion Rate for upper secondary Edu  Childhood_Education_GER  \\\n",
       "Year                                                                     \n",
       "2012                                 0.985625                 0.291174   \n",
       "2012                                 0.978437                 0.291174   \n",
       "2013                                 0.986652                 0.291174   \n",
       "\n",
       "      Gross_enrolment_ratio_early_childhood_educational_development_programmes  \\\n",
       "Year                                                                             \n",
       "2012                                           0.062772                          \n",
       "2012                                           0.062772                          \n",
       "2013                                           0.062772                          \n",
       "\n",
       "      Literacy_rate_for_25_64_years_old  \\\n",
       "Year                                      \n",
       "2012                           0.657782   \n",
       "2012                           0.657782   \n",
       "2013                           0.657782   \n",
       "\n",
       "      Expenditure_on_education_as_a_percentage_of_total_government_expenditure  \\\n",
       "Year                                                                             \n",
       "2012                                           0.482729                          \n",
       "2012                                           0.482729                          \n",
       "2013                                           0.446206                          \n",
       "\n",
       "      Government_expenditure_on_education_as_a_percentage_of_GDP  \\\n",
       "Year                                                               \n",
       "2012                                           0.286765            \n",
       "2012                                           0.286765            \n",
       "2013                                           0.252941            \n",
       "\n",
       "      Central_Asia  Central_and_Southern_Asia  Eastern_and_South_Eastern_Asia  \\\n",
       "Year                                                                            \n",
       "2012           1.0                        0.0                             0.0   \n",
       "2012           1.0                        0.0                             0.0   \n",
       "2013           1.0                        0.0                             0.0   \n",
       "\n",
       "      Europe_and_Northern_America  Latin_America_and_the_Caribbean  \\\n",
       "Year                                                                 \n",
       "2012                          0.0                              0.0   \n",
       "2012                          0.0                              0.0   \n",
       "2013                          0.0                              0.0   \n",
       "\n",
       "      Northern_Africa_and_Western_Asia  Oceania  Southern_Asia  \\\n",
       "Year                                                             \n",
       "2012                               0.0      0.0            0.0   \n",
       "2012                               0.0      0.0            0.0   \n",
       "2013                               0.0      0.0            0.0   \n",
       "\n",
       "      Sub-Saharan Africa  Gender_numerical  \n",
       "Year                                        \n",
       "2012                 0.0               1.0  \n",
       "2012                 0.0               0.0  \n",
       "2013                 0.0               1.0  "
      ]
     },
     "execution_count": 93,
     "metadata": {},
     "output_type": "execute_result"
    }
   ],
   "source": [
    "scaler = MinMaxScaler()\n",
    "normalized_df = pd.DataFrame(scaler.fit_transform(df), columns=df.columns)\n",
    "normalized_df['Year'] = data_col\n",
    "normalized_df.set_index('Year', inplace =True)\n",
    "normalized_df.head(3)"
   ]
  },
  {
   "cell_type": "code",
   "execution_count": 94,
   "id": "0332c37a",
   "metadata": {
    "colab": {
     "base_uri": "https://localhost:8080/",
     "height": 511
    },
    "id": "0332c37a",
    "outputId": "bd4c2bcd-a7ee-4bff-b13f-59c2d1b6f345"
   },
   "outputs": [
    {
     "data": {
      "text/html": [
       "<div>\n",
       "<style scoped>\n",
       "    .dataframe tbody tr th:only-of-type {\n",
       "        vertical-align: middle;\n",
       "    }\n",
       "\n",
       "    .dataframe tbody tr th {\n",
       "        vertical-align: top;\n",
       "    }\n",
       "\n",
       "    .dataframe thead th {\n",
       "        text-align: right;\n",
       "    }\n",
       "</style>\n",
       "<table border=\"1\" class=\"dataframe\">\n",
       "  <thead>\n",
       "    <tr style=\"text-align: right;\">\n",
       "      <th></th>\n",
       "      <th>Completion Rate for upper secondary Edu</th>\n",
       "      <th>Childhood_Education_GER</th>\n",
       "      <th>Gross_enrolment_ratio_early_childhood_educational_development_programmes</th>\n",
       "      <th>Literacy_rate_for_25_64_years_old</th>\n",
       "      <th>Expenditure_on_education_as_a_percentage_of_total_government_expenditure</th>\n",
       "      <th>Government_expenditure_on_education_as_a_percentage_of_GDP</th>\n",
       "      <th>Central_Asia</th>\n",
       "      <th>Central_and_Southern_Asia</th>\n",
       "      <th>Eastern_and_South_Eastern_Asia</th>\n",
       "      <th>Europe_and_Northern_America</th>\n",
       "      <th>Latin_America_and_the_Caribbean</th>\n",
       "      <th>Northern_Africa_and_Western_Asia</th>\n",
       "      <th>Oceania</th>\n",
       "      <th>Southern_Asia</th>\n",
       "      <th>Sub-Saharan Africa</th>\n",
       "      <th>Gender_numerical</th>\n",
       "    </tr>\n",
       "  </thead>\n",
       "  <tbody>\n",
       "    <tr>\n",
       "      <th>Completion Rate for upper secondary Edu</th>\n",
       "      <td>1.000000</td>\n",
       "      <td>0.232376</td>\n",
       "      <td>0.350079</td>\n",
       "      <td>0.312730</td>\n",
       "      <td>-0.055010</td>\n",
       "      <td>0.100356</td>\n",
       "      <td>0.250122</td>\n",
       "      <td>0.046776</td>\n",
       "      <td>0.064900</td>\n",
       "      <td>0.450880</td>\n",
       "      <td>0.176922</td>\n",
       "      <td>0.088123</td>\n",
       "      <td>0.003803</td>\n",
       "      <td>-0.119431</td>\n",
       "      <td>-0.601039</td>\n",
       "      <td>0.031859</td>\n",
       "    </tr>\n",
       "    <tr>\n",
       "      <th>Childhood_Education_GER</th>\n",
       "      <td>0.232376</td>\n",
       "      <td>1.000000</td>\n",
       "      <td>0.298705</td>\n",
       "      <td>0.118609</td>\n",
       "      <td>-0.182103</td>\n",
       "      <td>-0.017314</td>\n",
       "      <td>-0.064456</td>\n",
       "      <td>0.087568</td>\n",
       "      <td>0.157829</td>\n",
       "      <td>0.185646</td>\n",
       "      <td>0.024161</td>\n",
       "      <td>-0.050692</td>\n",
       "      <td>0.053348</td>\n",
       "      <td>0.149808</td>\n",
       "      <td>-0.346218</td>\n",
       "      <td>0.001945</td>\n",
       "    </tr>\n",
       "    <tr>\n",
       "      <th>Gross_enrolment_ratio_early_childhood_educational_development_programmes</th>\n",
       "      <td>0.350079</td>\n",
       "      <td>0.298705</td>\n",
       "      <td>1.000000</td>\n",
       "      <td>0.122515</td>\n",
       "      <td>0.002370</td>\n",
       "      <td>-0.017604</td>\n",
       "      <td>-0.008424</td>\n",
       "      <td>-0.093573</td>\n",
       "      <td>0.091822</td>\n",
       "      <td>0.362286</td>\n",
       "      <td>0.144470</td>\n",
       "      <td>-0.110872</td>\n",
       "      <td>-0.091845</td>\n",
       "      <td>-0.105898</td>\n",
       "      <td>-0.195579</td>\n",
       "      <td>0.000438</td>\n",
       "    </tr>\n",
       "  </tbody>\n",
       "</table>\n",
       "</div>"
      ],
      "text/plain": [
       "                                                    Completion Rate for upper secondary Edu  \\\n",
       "Completion Rate for upper secondary Edu                                            1.000000   \n",
       "Childhood_Education_GER                                                            0.232376   \n",
       "Gross_enrolment_ratio_early_childhood_education...                                 0.350079   \n",
       "\n",
       "                                                    Childhood_Education_GER  \\\n",
       "Completion Rate for upper secondary Edu                            0.232376   \n",
       "Childhood_Education_GER                                            1.000000   \n",
       "Gross_enrolment_ratio_early_childhood_education...                 0.298705   \n",
       "\n",
       "                                                    Gross_enrolment_ratio_early_childhood_educational_development_programmes  \\\n",
       "Completion Rate for upper secondary Edu                                                      0.350079                          \n",
       "Childhood_Education_GER                                                                      0.298705                          \n",
       "Gross_enrolment_ratio_early_childhood_education...                                           1.000000                          \n",
       "\n",
       "                                                    Literacy_rate_for_25_64_years_old  \\\n",
       "Completion Rate for upper secondary Edu                                      0.312730   \n",
       "Childhood_Education_GER                                                      0.118609   \n",
       "Gross_enrolment_ratio_early_childhood_education...                           0.122515   \n",
       "\n",
       "                                                    Expenditure_on_education_as_a_percentage_of_total_government_expenditure  \\\n",
       "Completion Rate for upper secondary Edu                                                     -0.055010                          \n",
       "Childhood_Education_GER                                                                     -0.182103                          \n",
       "Gross_enrolment_ratio_early_childhood_education...                                           0.002370                          \n",
       "\n",
       "                                                    Government_expenditure_on_education_as_a_percentage_of_GDP  \\\n",
       "Completion Rate for upper secondary Edu                                                      0.100356            \n",
       "Childhood_Education_GER                                                                     -0.017314            \n",
       "Gross_enrolment_ratio_early_childhood_education...                                          -0.017604            \n",
       "\n",
       "                                                    Central_Asia  \\\n",
       "Completion Rate for upper secondary Edu                 0.250122   \n",
       "Childhood_Education_GER                                -0.064456   \n",
       "Gross_enrolment_ratio_early_childhood_education...     -0.008424   \n",
       "\n",
       "                                                    Central_and_Southern_Asia  \\\n",
       "Completion Rate for upper secondary Edu                              0.046776   \n",
       "Childhood_Education_GER                                              0.087568   \n",
       "Gross_enrolment_ratio_early_childhood_education...                  -0.093573   \n",
       "\n",
       "                                                    Eastern_and_South_Eastern_Asia  \\\n",
       "Completion Rate for upper secondary Edu                                   0.064900   \n",
       "Childhood_Education_GER                                                   0.157829   \n",
       "Gross_enrolment_ratio_early_childhood_education...                        0.091822   \n",
       "\n",
       "                                                    Europe_and_Northern_America  \\\n",
       "Completion Rate for upper secondary Edu                                0.450880   \n",
       "Childhood_Education_GER                                                0.185646   \n",
       "Gross_enrolment_ratio_early_childhood_education...                     0.362286   \n",
       "\n",
       "                                                    Latin_America_and_the_Caribbean  \\\n",
       "Completion Rate for upper secondary Edu                                    0.176922   \n",
       "Childhood_Education_GER                                                    0.024161   \n",
       "Gross_enrolment_ratio_early_childhood_education...                         0.144470   \n",
       "\n",
       "                                                    Northern_Africa_and_Western_Asia  \\\n",
       "Completion Rate for upper secondary Edu                                     0.088123   \n",
       "Childhood_Education_GER                                                    -0.050692   \n",
       "Gross_enrolment_ratio_early_childhood_education...                         -0.110872   \n",
       "\n",
       "                                                     Oceania  Southern_Asia  \\\n",
       "Completion Rate for upper secondary Edu             0.003803      -0.119431   \n",
       "Childhood_Education_GER                             0.053348       0.149808   \n",
       "Gross_enrolment_ratio_early_childhood_education... -0.091845      -0.105898   \n",
       "\n",
       "                                                    Sub-Saharan Africa  \\\n",
       "Completion Rate for upper secondary Edu                      -0.601039   \n",
       "Childhood_Education_GER                                      -0.346218   \n",
       "Gross_enrolment_ratio_early_childhood_education...           -0.195579   \n",
       "\n",
       "                                                    Gender_numerical  \n",
       "Completion Rate for upper secondary Edu                     0.031859  \n",
       "Childhood_Education_GER                                     0.001945  \n",
       "Gross_enrolment_ratio_early_childhood_education...          0.000438  "
      ]
     },
     "execution_count": 94,
     "metadata": {},
     "output_type": "execute_result"
    }
   ],
   "source": [
    "normalized_df.corr().head(3)"
   ]
  },
  {
   "cell_type": "code",
   "execution_count": 95,
   "id": "KhofohCOajCz",
   "metadata": {
    "id": "KhofohCOajCz"
   },
   "outputs": [],
   "source": [
    "# spliting the dataset into training and testing set\n",
    "x = normalized_df.drop('Completion Rate for upper secondary Edu', axis = 1)\n",
    "y = normalized_df['Completion Rate for upper secondary Edu']\n",
    "\n",
    "\n",
    "# making the train set to be 70% of the entire dataset.\n",
    "x_train, x_test, y_train, y_test = train_test_split(x, y, test_size = 0.3, random_state=42)\n"
   ]
  },
  {
   "cell_type": "markdown",
   "id": "gr_FqXvZVnNx",
   "metadata": {
    "id": "gr_FqXvZVnNx"
   },
   "source": [
    "### Parameters hypertuning"
   ]
  },
  {
   "cell_type": "code",
   "execution_count": 96,
   "id": "7lAiX0WTTnm9",
   "metadata": {
    "id": "7lAiX0WTTnm9"
   },
   "outputs": [],
   "source": [
    "def parameters_hypertuning(model, parameters = {}):\n",
    "  gs = GridSearchCV(model, parameters)\n",
    "  gs.fit(x_train, y_train)\n",
    "  hypertuned_parameters = gs.best_params_\n",
    "\n",
    "  return hypertuned_parameters\n"
   ]
  },
  {
   "cell_type": "code",
   "execution_count": 119,
   "id": "Hlu1nGjnUdHg",
   "metadata": {
    "colab": {
     "base_uri": "https://localhost:8080/"
    },
    "id": "Hlu1nGjnUdHg",
    "outputId": "a1d82052-20ce-4e7d-fd6c-ef8fc9a8aba3"
   },
   "outputs": [
    {
     "data": {
      "text/plain": [
       "{'n_jobs': 0}"
      ]
     },
     "execution_count": 119,
     "metadata": {},
     "output_type": "execute_result"
    }
   ],
   "source": [
    "#hypertuning of paramters for the linear regression model\n",
    "parameters_hypertuning(linear_model, {'n_jobs': range(0, 50, 5)})"
   ]
  },
  {
   "cell_type": "code",
   "execution_count": 120,
   "id": "tN0hjkLhVE16",
   "metadata": {
    "colab": {
     "base_uri": "https://localhost:8080/"
    },
    "id": "tN0hjkLhVE16",
    "outputId": "8a9b5065-4d45-43ae-bf80-0ddd786cadc2"
   },
   "outputs": [
    {
     "data": {
      "text/plain": [
       "{'alpha': 1.0, 'max_iter': 50}"
      ]
     },
     "execution_count": 120,
     "metadata": {},
     "output_type": "execute_result"
    }
   ],
   "source": [
    "#hypertuning of paramters for the ridge regression model\n",
    "\n",
    "parameters_hypertuning(ridge_model,\n",
    " {'alpha': np.arange(1.0, 20.0),\n",
    "  'max_iter': range(0, 1500, 50)\n",
    "  })"
   ]
  },
  {
   "cell_type": "code",
   "execution_count": 121,
   "id": "MCbNzi3sWf2C",
   "metadata": {
    "colab": {
     "base_uri": "https://localhost:8080/"
    },
    "id": "MCbNzi3sWf2C",
    "outputId": "e70de682-cd76-4fb0-d787-a2df39f92146"
   },
   "outputs": [
    {
     "data": {
      "text/plain": [
       "{'alpha': 1.0, 'max_iter': 50}"
      ]
     },
     "execution_count": 121,
     "metadata": {},
     "output_type": "execute_result"
    }
   ],
   "source": [
    "#hypertuning of paramters for the lasso regression model\n",
    "parameters_hypertuning(lasso_model, {'alpha': np.arange(1.0, 20.0),\n",
    "  'max_iter': range(0, 1500, 50)})"
   ]
  },
  {
   "cell_type": "code",
   "execution_count": 87,
   "id": "pWNRzvrafYce",
   "metadata": {
    "colab": {
     "base_uri": "https://localhost:8080/"
    },
    "id": "pWNRzvrafYce",
    "outputId": "e28c63cd-1ce0-440e-e062-2f4749d7d940"
   },
   "outputs": [
    {
     "data": {
      "text/plain": [
       "{'learning_rate': 1.0, 'loss': 'squared_error', 'n_estimators': 40}"
      ]
     },
     "execution_count": 87,
     "metadata": {},
     "output_type": "execute_result"
    }
   ],
   "source": [
    "#hypertuning of paramters for the Gradient boosting regression model\n",
    "parameters_hypertuning(Gbr, {'loss': ['squared_error', 'absolute_error', 'huber', 'quantile'],\n",
    "                             'learning_rate': np.arange(1.0, 20.0, 2.0),\n",
    "                             'n_estimators': range(0, 50, 5)})"
   ]
  },
  {
   "cell_type": "markdown",
   "id": "6249c3dc",
   "metadata": {
    "id": "6249c3dc"
   },
   "source": [
    "## Model Training, Testing and evaluation\n",
    "\n",
    "\n",
    " Because the target variable been 'Completion rate for primary school Edu' is a continoues data and not categorical. therfore, the model algorithm to be use is the regression and not classifiers.\n",
    "\n",
    "#### 1. Linear Regression\n"
   ]
  },
  {
   "cell_type": "code",
   "execution_count": 97,
   "id": "08c2e319",
   "metadata": {
    "colab": {
     "base_uri": "https://localhost:8080/"
    },
    "id": "08c2e319",
    "outputId": "3da5f2cc-051b-4b69-9b41-cdf4badc0021"
   },
   "outputs": [
    {
     "name": "stdout",
     "output_type": "stream",
     "text": [
      "Training took 0.03 seconds.\n"
     ]
    }
   ],
   "source": [
    "\n",
    "import time\n",
    "\n",
    "# Record start time\n",
    "start_time = time.time()\n",
    "\n",
    "# Create a Linear Regression model\n",
    "linear_model = LinearRegression()\n",
    "\n",
    "# Fit the model to the training dataset\n",
    "linear_model.fit(x_train, y_train)\n",
    "\n",
    "# Record end time\n",
    "end_time = time.time()\n",
    "\n",
    "# Calculate elapsed time\n",
    "elapsed_time = end_time - start_time\n",
    "\n",
    "# Display training time\n",
    "print(\"Training took {:.2f} seconds.\".format(elapsed_time))\n",
    "\n",
    "\n",
    "\n"
   ]
  },
  {
   "cell_type": "code",
   "execution_count": 98,
   "id": "d1340cbb",
   "metadata": {
    "id": "d1340cbb"
   },
   "outputs": [],
   "source": [
    "# Obtain predictions\n",
    "predicted_values = linear_model.predict(x_test)\n",
    "\n",
    "#Measuring regression performance\n",
    "MAE = mean_absolute_error(y_test, predicted_values)\n",
    "MSE = mean_squared_error(y_test, predicted_values)\n",
    "RMSE =np.sqrt(mean_squared_error(y_test, predicted_values))\n",
    "RSS =np.sum(np.square(y_test - predicted_values))\n",
    "r2=r2_score(y_test, predicted_values)\n",
    "\n",
    "\n"
   ]
  },
  {
   "cell_type": "code",
   "execution_count": 63,
   "id": "f3f0d7b3",
   "metadata": {
    "colab": {
     "base_uri": "https://localhost:8080/",
     "height": 81
    },
    "id": "f3f0d7b3",
    "outputId": "901b5e77-9428-418c-aeeb-48a27d055e6c"
   },
   "outputs": [
    {
     "data": {
      "text/html": [
       "<div>\n",
       "<style scoped>\n",
       "    .dataframe tbody tr th:only-of-type {\n",
       "        vertical-align: middle;\n",
       "    }\n",
       "\n",
       "    .dataframe tbody tr th {\n",
       "        vertical-align: top;\n",
       "    }\n",
       "\n",
       "    .dataframe thead th {\n",
       "        text-align: right;\n",
       "    }\n",
       "</style>\n",
       "<table border=\"1\" class=\"dataframe\">\n",
       "  <thead>\n",
       "    <tr style=\"text-align: right;\">\n",
       "      <th></th>\n",
       "      <th>Model</th>\n",
       "      <th>MAE</th>\n",
       "      <th>MSE</th>\n",
       "      <th>RMSE</th>\n",
       "      <th>RSS</th>\n",
       "      <th>r2_score</th>\n",
       "    </tr>\n",
       "  </thead>\n",
       "  <tbody>\n",
       "    <tr>\n",
       "      <th>0</th>\n",
       "      <td>Linear regression</td>\n",
       "      <td>0.153095</td>\n",
       "      <td>0.038898</td>\n",
       "      <td>0.197225</td>\n",
       "      <td>21.899426</td>\n",
       "      <td>0.559145</td>\n",
       "    </tr>\n",
       "  </tbody>\n",
       "</table>\n",
       "</div>"
      ],
      "text/plain": [
       "               Model       MAE       MSE      RMSE        RSS  r2_score\n",
       "0  Linear regression  0.153095  0.038898  0.197225  21.899426  0.559145"
      ]
     },
     "execution_count": 63,
     "metadata": {},
     "output_type": "execute_result"
    }
   ],
   "source": [
    "# getting the linear regression evaluation results\n",
    "\n",
    "results = pd.DataFrame([['Linear regression', MAE, MSE, RMSE, RSS,r2]],\n",
    "               columns = ['Model', 'MAE', 'MSE', 'RMSE', 'RSS','r2_score'])\n",
    "results"
   ]
  },
  {
   "cell_type": "code",
   "execution_count": 99,
   "id": "9ebb7228",
   "metadata": {
    "colab": {
     "base_uri": "https://localhost:8080/",
     "height": 455
    },
    "id": "9ebb7228",
    "outputId": "542c2eee-1f1a-4f37-c2a5-5e2f573bd801"
   },
   "outputs": [
    {
     "data": {
      "text/html": [
       "<div>\n",
       "<style scoped>\n",
       "    .dataframe tbody tr th:only-of-type {\n",
       "        vertical-align: middle;\n",
       "    }\n",
       "\n",
       "    .dataframe tbody tr th {\n",
       "        vertical-align: top;\n",
       "    }\n",
       "\n",
       "    .dataframe thead th {\n",
       "        text-align: right;\n",
       "    }\n",
       "</style>\n",
       "<table border=\"1\" class=\"dataframe\">\n",
       "  <thead>\n",
       "    <tr style=\"text-align: right;\">\n",
       "      <th></th>\n",
       "      <th>actual_values</th>\n",
       "      <th>predictions</th>\n",
       "    </tr>\n",
       "    <tr>\n",
       "      <th>Year</th>\n",
       "      <th></th>\n",
       "      <th></th>\n",
       "    </tr>\n",
       "  </thead>\n",
       "  <tbody>\n",
       "    <tr>\n",
       "      <th>2018</th>\n",
       "      <td>19.601602</td>\n",
       "      <td>48.437500</td>\n",
       "    </tr>\n",
       "    <tr>\n",
       "      <th>2012</th>\n",
       "      <td>16.315844</td>\n",
       "      <td>17.773438</td>\n",
       "    </tr>\n",
       "    <tr>\n",
       "      <th>2019</th>\n",
       "      <td>84.289968</td>\n",
       "      <td>88.867188</td>\n",
       "    </tr>\n",
       "    <tr>\n",
       "      <th>2018</th>\n",
       "      <td>15.289044</td>\n",
       "      <td>51.757812</td>\n",
       "    </tr>\n",
       "    <tr>\n",
       "      <th>2014</th>\n",
       "      <td>33.771434</td>\n",
       "      <td>28.906250</td>\n",
       "    </tr>\n",
       "    <tr>\n",
       "      <th>...</th>\n",
       "      <td>...</td>\n",
       "      <td>...</td>\n",
       "    </tr>\n",
       "    <tr>\n",
       "      <th>2013</th>\n",
       "      <td>9.538967</td>\n",
       "      <td>22.851562</td>\n",
       "    </tr>\n",
       "    <tr>\n",
       "      <th>2013</th>\n",
       "      <td>50.508266</td>\n",
       "      <td>51.367188</td>\n",
       "    </tr>\n",
       "    <tr>\n",
       "      <th>2018</th>\n",
       "      <td>65.766506</td>\n",
       "      <td>53.613281</td>\n",
       "    </tr>\n",
       "    <tr>\n",
       "      <th>2015</th>\n",
       "      <td>18.061403</td>\n",
       "      <td>54.687500</td>\n",
       "    </tr>\n",
       "    <tr>\n",
       "      <th>2018</th>\n",
       "      <td>73.508574</td>\n",
       "      <td>86.425781</td>\n",
       "    </tr>\n",
       "  </tbody>\n",
       "</table>\n",
       "<p>563 rows × 2 columns</p>\n",
       "</div>"
      ],
      "text/plain": [
       "      actual_values  predictions\n",
       "Year                            \n",
       "2018      19.601602    48.437500\n",
       "2012      16.315844    17.773438\n",
       "2019      84.289968    88.867188\n",
       "2018      15.289044    51.757812\n",
       "2014      33.771434    28.906250\n",
       "...             ...          ...\n",
       "2013       9.538967    22.851562\n",
       "2013      50.508266    51.367188\n",
       "2018      65.766506    53.613281\n",
       "2015      18.061403    54.687500\n",
       "2018      73.508574    86.425781\n",
       "\n",
       "[563 rows x 2 columns]"
      ]
     },
     "execution_count": 99,
     "metadata": {},
     "output_type": "execute_result"
    }
   ],
   "source": [
    "lreg_df = pd.DataFrame(data ={\"actual_values\": y_test * 100, \"predictions\":predicted_values * 100})\n",
    "lreg_df\n"
   ]
  },
  {
   "cell_type": "markdown",
   "id": "jLT816vZk8L5",
   "metadata": {
    "id": "jLT816vZk8L5"
   },
   "source": [
    "## Ridge Regression"
   ]
  },
  {
   "cell_type": "code",
   "execution_count": 100,
   "id": "Wpbbr5vBhtRb",
   "metadata": {
    "colab": {
     "base_uri": "https://localhost:8080/"
    },
    "id": "Wpbbr5vBhtRb",
    "outputId": "eb9120d1-466b-4cc9-e92a-385b510217e4"
   },
   "outputs": [
    {
     "name": "stdout",
     "output_type": "stream",
     "text": [
      "Training took 0.02 seconds.\n"
     ]
    }
   ],
   "source": [
    "# ridge regression\n",
    "start_time = time.time()\n",
    "\n",
    "ridge_model = Ridge(alpha = 1.0, max_iter = 50)\n",
    "ridge_model.fit(x_train, y_train)\n",
    "# Record end time\n",
    "end_time = time.time()\n",
    "\n",
    "# Calculate elapsed time\n",
    "elapsed_time = end_time - start_time\n",
    "\n",
    "# Display training time\n",
    "print(\"Training took {:.2f} seconds.\".format(elapsed_time))\n"
   ]
  },
  {
   "cell_type": "code",
   "execution_count": 101,
   "id": "Rj6eiEn_iiBo",
   "metadata": {
    "id": "Rj6eiEn_iiBo"
   },
   "outputs": [],
   "source": [
    "y_preds = ridge_model.predict(x_test)"
   ]
  },
  {
   "cell_type": "code",
   "execution_count": 102,
   "id": "RFzq0Ussiq2L",
   "metadata": {
    "id": "RFzq0Ussiq2L"
   },
   "outputs": [],
   "source": [
    "# getting the ridge model evaluation results\n",
    "mae= mean_absolute_error(y_test, y_preds)\n",
    "mse= mean_squared_error(y_test, y_preds)\n",
    "rmse=np.sqrt(mean_squared_error(y_test, y_preds))\n",
    "rss=np.sum(np.square(y_test - y_preds))\n",
    "r_squared=r2_score(y_test, y_preds)"
   ]
  },
  {
   "cell_type": "code",
   "execution_count": 103,
   "id": "GxhAOopWis0J",
   "metadata": {
    "colab": {
     "base_uri": "https://localhost:8080/",
     "height": 81
    },
    "id": "GxhAOopWis0J",
    "outputId": "58abe197-e8d0-422f-883e-da518c36d0dc"
   },
   "outputs": [
    {
     "data": {
      "text/html": [
       "<div>\n",
       "<style scoped>\n",
       "    .dataframe tbody tr th:only-of-type {\n",
       "        vertical-align: middle;\n",
       "    }\n",
       "\n",
       "    .dataframe tbody tr th {\n",
       "        vertical-align: top;\n",
       "    }\n",
       "\n",
       "    .dataframe thead th {\n",
       "        text-align: right;\n",
       "    }\n",
       "</style>\n",
       "<table border=\"1\" class=\"dataframe\">\n",
       "  <thead>\n",
       "    <tr style=\"text-align: right;\">\n",
       "      <th></th>\n",
       "      <th>Model</th>\n",
       "      <th>MAE</th>\n",
       "      <th>MSE</th>\n",
       "      <th>RMSE</th>\n",
       "      <th>RSS</th>\n",
       "      <th>r2_score</th>\n",
       "    </tr>\n",
       "  </thead>\n",
       "  <tbody>\n",
       "    <tr>\n",
       "      <th>0</th>\n",
       "      <td>Ridge regression</td>\n",
       "      <td>0.153265</td>\n",
       "      <td>0.038952</td>\n",
       "      <td>0.197364</td>\n",
       "      <td>21.930257</td>\n",
       "      <td>0.558524</td>\n",
       "    </tr>\n",
       "  </tbody>\n",
       "</table>\n",
       "</div>"
      ],
      "text/plain": [
       "              Model       MAE       MSE      RMSE        RSS  r2_score\n",
       "0  Ridge regression  0.153265  0.038952  0.197364  21.930257  0.558524"
      ]
     },
     "execution_count": 103,
     "metadata": {},
     "output_type": "execute_result"
    }
   ],
   "source": [
    "model_results = pd.DataFrame([['Ridge regression', mae, mse, rmse, rss,r_squared]],\n",
    "               columns = ['Model', 'MAE', 'MSE', 'RMSE', 'RSS','r2_score'])\n",
    "results = pd.concat([results, model_results], ignore_index=True)\n",
    "model_results"
   ]
  },
  {
   "cell_type": "code",
   "execution_count": 104,
   "id": "2GEXVHIdjSYw",
   "metadata": {
    "colab": {
     "base_uri": "https://localhost:8080/",
     "height": 455
    },
    "id": "2GEXVHIdjSYw",
    "outputId": "4344b274-bbd1-458d-cb9a-1a2944626511"
   },
   "outputs": [
    {
     "data": {
      "text/html": [
       "<div>\n",
       "<style scoped>\n",
       "    .dataframe tbody tr th:only-of-type {\n",
       "        vertical-align: middle;\n",
       "    }\n",
       "\n",
       "    .dataframe tbody tr th {\n",
       "        vertical-align: top;\n",
       "    }\n",
       "\n",
       "    .dataframe thead th {\n",
       "        text-align: right;\n",
       "    }\n",
       "</style>\n",
       "<table border=\"1\" class=\"dataframe\">\n",
       "  <thead>\n",
       "    <tr style=\"text-align: right;\">\n",
       "      <th></th>\n",
       "      <th>actual_values</th>\n",
       "      <th>predictions</th>\n",
       "    </tr>\n",
       "    <tr>\n",
       "      <th>Year</th>\n",
       "      <th></th>\n",
       "      <th></th>\n",
       "    </tr>\n",
       "  </thead>\n",
       "  <tbody>\n",
       "    <tr>\n",
       "      <th>2018</th>\n",
       "      <td>19.601602</td>\n",
       "      <td>48.437500</td>\n",
       "    </tr>\n",
       "    <tr>\n",
       "      <th>2012</th>\n",
       "      <td>16.315844</td>\n",
       "      <td>17.773438</td>\n",
       "    </tr>\n",
       "    <tr>\n",
       "      <th>2019</th>\n",
       "      <td>84.289968</td>\n",
       "      <td>88.867188</td>\n",
       "    </tr>\n",
       "    <tr>\n",
       "      <th>2018</th>\n",
       "      <td>15.289044</td>\n",
       "      <td>51.757812</td>\n",
       "    </tr>\n",
       "    <tr>\n",
       "      <th>2014</th>\n",
       "      <td>33.771434</td>\n",
       "      <td>28.906250</td>\n",
       "    </tr>\n",
       "    <tr>\n",
       "      <th>...</th>\n",
       "      <td>...</td>\n",
       "      <td>...</td>\n",
       "    </tr>\n",
       "    <tr>\n",
       "      <th>2013</th>\n",
       "      <td>9.538967</td>\n",
       "      <td>22.851562</td>\n",
       "    </tr>\n",
       "    <tr>\n",
       "      <th>2013</th>\n",
       "      <td>50.508266</td>\n",
       "      <td>51.367188</td>\n",
       "    </tr>\n",
       "    <tr>\n",
       "      <th>2018</th>\n",
       "      <td>65.766506</td>\n",
       "      <td>53.613281</td>\n",
       "    </tr>\n",
       "    <tr>\n",
       "      <th>2015</th>\n",
       "      <td>18.061403</td>\n",
       "      <td>54.687500</td>\n",
       "    </tr>\n",
       "    <tr>\n",
       "      <th>2018</th>\n",
       "      <td>73.508574</td>\n",
       "      <td>86.425781</td>\n",
       "    </tr>\n",
       "  </tbody>\n",
       "</table>\n",
       "<p>563 rows × 2 columns</p>\n",
       "</div>"
      ],
      "text/plain": [
       "      actual_values  predictions\n",
       "Year                            \n",
       "2018      19.601602    48.437500\n",
       "2012      16.315844    17.773438\n",
       "2019      84.289968    88.867188\n",
       "2018      15.289044    51.757812\n",
       "2014      33.771434    28.906250\n",
       "...             ...          ...\n",
       "2013       9.538967    22.851562\n",
       "2013      50.508266    51.367188\n",
       "2018      65.766506    53.613281\n",
       "2015      18.061403    54.687500\n",
       "2018      73.508574    86.425781\n",
       "\n",
       "[563 rows x 2 columns]"
      ]
     },
     "execution_count": 104,
     "metadata": {},
     "output_type": "execute_result"
    }
   ],
   "source": [
    "ridg_df = pd.DataFrame(data ={\"actual_values\": y_test * 100, \"predictions\":predicted_values * 100})\n",
    "ridg_df\n"
   ]
  },
  {
   "cell_type": "markdown",
   "id": "a8b15666",
   "metadata": {
    "id": "a8b15666"
   },
   "source": [
    "#### Lasso regression"
   ]
  },
  {
   "cell_type": "code",
   "execution_count": 105,
   "id": "9253cf11",
   "metadata": {
    "colab": {
     "base_uri": "https://localhost:8080/"
    },
    "id": "9253cf11",
    "outputId": "5f6f7f3a-e738-4614-966b-833ae6fc9da7"
   },
   "outputs": [
    {
     "name": "stdout",
     "output_type": "stream",
     "text": [
      "Training took 0.01 seconds.\n"
     ]
    }
   ],
   "source": [
    "\n",
    "# Record start time\n",
    "start_time = time.time()\n",
    "\n",
    "lasso_model = Lasso(alpha = 1.0, max_iter = 50)\n",
    "\n",
    "lasso_model.fit(x_train, y_train)\n",
    "\n",
    "# Record end time\n",
    "end_time = time.time()\n",
    "\n",
    "# Calculate elapsed time\n",
    "elapsed_time = end_time - start_time\n",
    "\n",
    "# Display training time\n",
    "print(\"Training took {:.2f} seconds.\".format(elapsed_time))\n",
    "\n",
    "\n"
   ]
  },
  {
   "cell_type": "code",
   "execution_count": 106,
   "id": "437add8d",
   "metadata": {
    "id": "437add8d"
   },
   "outputs": [],
   "source": [
    "lasso_predictions  = lasso_model.predict(x_test)"
   ]
  },
  {
   "cell_type": "code",
   "execution_count": 107,
   "id": "8112c090",
   "metadata": {
    "colab": {
     "base_uri": "https://localhost:8080/"
    },
    "id": "8112c090",
    "outputId": "aba0ba78-59ba-40fa-eec9-897b2303feba"
   },
   "outputs": [
    {
     "name": "stdout",
     "output_type": "stream",
     "text": [
      "(563,) (563,)\n"
     ]
    }
   ],
   "source": [
    "print(lasso_predictions.shape, y_test.shape)"
   ]
  },
  {
   "cell_type": "code",
   "execution_count": 108,
   "id": "a4b417c7",
   "metadata": {
    "id": "a4b417c7"
   },
   "outputs": [],
   "source": [
    "# getting the lasso model evaluation results\n",
    "lasso_r2 = r2_score(y_test, lasso_predictions)\n",
    "lasso_mse = mean_squared_error( y_test,lasso_predictions)\n",
    "lasso_rmse = np.sqrt(lasso_mse)\n",
    "lasso_mae = mean_absolute_error(y_test,lasso_predictions)\n",
    "lasso_rss = np.sum(np.square(y_test - lasso_predictions))"
   ]
  },
  {
   "cell_type": "code",
   "execution_count": 109,
   "id": "daf81bf0",
   "metadata": {
    "id": "daf81bf0"
   },
   "outputs": [],
   "source": [
    "model_results = pd.DataFrame([['lasso regression', lasso_mae, lasso_mse, lasso_rmse, lasso_rss, lasso_r2]],\n",
    "               columns = ['Model', 'MAE', 'MSE', 'RMSE', 'RSS','r2_score'])\n",
    "results = pd.concat([results, model_results], ignore_index=True)"
   ]
  },
  {
   "cell_type": "code",
   "execution_count": 110,
   "id": "841271fa",
   "metadata": {
    "colab": {
     "base_uri": "https://localhost:8080/",
     "height": 81
    },
    "id": "841271fa",
    "outputId": "44610c4d-8fce-4475-9349-6721c8f3f903"
   },
   "outputs": [
    {
     "data": {
      "text/html": [
       "<div>\n",
       "<style scoped>\n",
       "    .dataframe tbody tr th:only-of-type {\n",
       "        vertical-align: middle;\n",
       "    }\n",
       "\n",
       "    .dataframe tbody tr th {\n",
       "        vertical-align: top;\n",
       "    }\n",
       "\n",
       "    .dataframe thead th {\n",
       "        text-align: right;\n",
       "    }\n",
       "</style>\n",
       "<table border=\"1\" class=\"dataframe\">\n",
       "  <thead>\n",
       "    <tr style=\"text-align: right;\">\n",
       "      <th></th>\n",
       "      <th>Model</th>\n",
       "      <th>MAE</th>\n",
       "      <th>MSE</th>\n",
       "      <th>RMSE</th>\n",
       "      <th>RSS</th>\n",
       "      <th>r2_score</th>\n",
       "    </tr>\n",
       "  </thead>\n",
       "  <tbody>\n",
       "    <tr>\n",
       "      <th>0</th>\n",
       "      <td>lasso regression</td>\n",
       "      <td>0.263145</td>\n",
       "      <td>0.088245</td>\n",
       "      <td>0.297061</td>\n",
       "      <td>49.682155</td>\n",
       "      <td>-0.000147</td>\n",
       "    </tr>\n",
       "  </tbody>\n",
       "</table>\n",
       "</div>"
      ],
      "text/plain": [
       "              Model       MAE       MSE      RMSE        RSS  r2_score\n",
       "0  lasso regression  0.263145  0.088245  0.297061  49.682155 -0.000147"
      ]
     },
     "execution_count": 110,
     "metadata": {},
     "output_type": "execute_result"
    }
   ],
   "source": [
    "model_results"
   ]
  },
  {
   "cell_type": "code",
   "execution_count": 111,
   "id": "81373b49",
   "metadata": {
    "colab": {
     "base_uri": "https://localhost:8080/",
     "height": 455
    },
    "id": "81373b49",
    "outputId": "1329c467-6ae7-44ff-b90f-46f03032710e"
   },
   "outputs": [
    {
     "data": {
      "text/html": [
       "<div>\n",
       "<style scoped>\n",
       "    .dataframe tbody tr th:only-of-type {\n",
       "        vertical-align: middle;\n",
       "    }\n",
       "\n",
       "    .dataframe tbody tr th {\n",
       "        vertical-align: top;\n",
       "    }\n",
       "\n",
       "    .dataframe thead th {\n",
       "        text-align: right;\n",
       "    }\n",
       "</style>\n",
       "<table border=\"1\" class=\"dataframe\">\n",
       "  <thead>\n",
       "    <tr style=\"text-align: right;\">\n",
       "      <th></th>\n",
       "      <th>actual_values</th>\n",
       "      <th>predictions</th>\n",
       "    </tr>\n",
       "    <tr>\n",
       "      <th>Year</th>\n",
       "      <th></th>\n",
       "      <th></th>\n",
       "    </tr>\n",
       "  </thead>\n",
       "  <tbody>\n",
       "    <tr>\n",
       "      <th>2012</th>\n",
       "      <td>11.181846</td>\n",
       "      <td>47.193455</td>\n",
       "    </tr>\n",
       "    <tr>\n",
       "      <th>2012</th>\n",
       "      <td>51.227025</td>\n",
       "      <td>47.193455</td>\n",
       "    </tr>\n",
       "    <tr>\n",
       "      <th>2012</th>\n",
       "      <td>98.562481</td>\n",
       "      <td>47.193455</td>\n",
       "    </tr>\n",
       "    <tr>\n",
       "      <th>2012</th>\n",
       "      <td>48.742171</td>\n",
       "      <td>47.193455</td>\n",
       "    </tr>\n",
       "    <tr>\n",
       "      <th>2012</th>\n",
       "      <td>29.561557</td>\n",
       "      <td>47.193455</td>\n",
       "    </tr>\n",
       "    <tr>\n",
       "      <th>...</th>\n",
       "      <td>...</td>\n",
       "      <td>...</td>\n",
       "    </tr>\n",
       "    <tr>\n",
       "      <th>2021</th>\n",
       "      <td>88.048054</td>\n",
       "      <td>47.193455</td>\n",
       "    </tr>\n",
       "    <tr>\n",
       "      <th>2021</th>\n",
       "      <td>88.725742</td>\n",
       "      <td>47.193455</td>\n",
       "    </tr>\n",
       "    <tr>\n",
       "      <th>2021</th>\n",
       "      <td>54.307424</td>\n",
       "      <td>47.193455</td>\n",
       "    </tr>\n",
       "    <tr>\n",
       "      <th>2021</th>\n",
       "      <td>73.518842</td>\n",
       "      <td>47.193455</td>\n",
       "    </tr>\n",
       "    <tr>\n",
       "      <th>2021</th>\n",
       "      <td>12.845261</td>\n",
       "      <td>47.193455</td>\n",
       "    </tr>\n",
       "  </tbody>\n",
       "</table>\n",
       "<p>563 rows × 2 columns</p>\n",
       "</div>"
      ],
      "text/plain": [
       "      actual_values  predictions\n",
       "Year                            \n",
       "2012      11.181846    47.193455\n",
       "2012      51.227025    47.193455\n",
       "2012      98.562481    47.193455\n",
       "2012      48.742171    47.193455\n",
       "2012      29.561557    47.193455\n",
       "...             ...          ...\n",
       "2021      88.048054    47.193455\n",
       "2021      88.725742    47.193455\n",
       "2021      54.307424    47.193455\n",
       "2021      73.518842    47.193455\n",
       "2021      12.845261    47.193455\n",
       "\n",
       "[563 rows x 2 columns]"
      ]
     },
     "execution_count": 111,
     "metadata": {},
     "output_type": "execute_result"
    }
   ],
   "source": [
    "lasso_df = pd.DataFrame(data ={\"actual_values\": y_test * 100, \"predictions\":lasso_predictions * 100})\n",
    "lasso_df.sort_index(ascending=True, inplace=True)\n",
    "lasso_df"
   ]
  },
  {
   "cell_type": "markdown",
   "id": "ANxFhl_VoCTy",
   "metadata": {
    "id": "ANxFhl_VoCTy"
   },
   "source": [
    "#### GradientBoostingRegressor"
   ]
  },
  {
   "cell_type": "code",
   "execution_count": 112,
   "id": "ed79910b",
   "metadata": {
    "colab": {
     "base_uri": "https://localhost:8080/"
    },
    "id": "ed79910b",
    "outputId": "cbcdb15b-74bb-4752-a1ea-0ef13e0a5a15"
   },
   "outputs": [
    {
     "name": "stdout",
     "output_type": "stream",
     "text": [
      "Training took 0.42 seconds.\n"
     ]
    }
   ],
   "source": [
    "from sklearn.ensemble import GradientBoostingRegressor\n",
    "\n",
    "\n",
    "# Record start time\n",
    "start_time = time.time()\n",
    "\n",
    "Gbr = GradientBoostingRegressor(learning_rate= 1.0, loss= 'squared_error', n_estimators= 40)\n",
    "Gbr.fit(x_train,y_train)\n",
    "\n",
    "# Record end time\n",
    "end_time = time.time()\n",
    "\n",
    "# Calculate elapsed time\n",
    "elapsed_time = end_time - start_time\n",
    "\n",
    "# Display training time\n",
    "print(\"Training took {:.2f} seconds.\".format(elapsed_time))\n",
    "\n"
   ]
  },
  {
   "cell_type": "code",
   "execution_count": 113,
   "id": "16fe141d",
   "metadata": {
    "id": "16fe141d"
   },
   "outputs": [],
   "source": [
    "Gbr_predictions  = Gbr.predict(x_test)"
   ]
  },
  {
   "cell_type": "code",
   "execution_count": 114,
   "id": "fdccce00",
   "metadata": {
    "id": "fdccce00"
   },
   "outputs": [],
   "source": [
    "# getting the Gradient boosting Model evaluation results\n",
    "Gbr_r2 = r2_score(y_test, Gbr_predictions)\n",
    "Gbr_mse = mean_squared_error( y_test,Gbr_predictions)\n",
    "Gbr_rmse = np.sqrt(Gbr_mse)\n",
    "Gbr_mae = mean_absolute_error(y_test,Gbr_predictions)\n",
    "Gbr_rss = np.sum(np.square(y_test - Gbr_predictions))"
   ]
  },
  {
   "cell_type": "code",
   "execution_count": 115,
   "id": "ec47f30b",
   "metadata": {
    "id": "ec47f30b"
   },
   "outputs": [],
   "source": [
    "model_results = pd.DataFrame([['GBR regression', Gbr_mae, Gbr_mse, Gbr_rmse, Gbr_rss, Gbr_r2]],\n",
    "               columns = ['Model', 'MAE', 'MSE', 'RMSE', 'RSS','r2_score'])\n",
    "results = pd.concat([results, model_results], ignore_index=True)"
   ]
  },
  {
   "cell_type": "code",
   "execution_count": 116,
   "id": "9e57797c",
   "metadata": {
    "colab": {
     "base_uri": "https://localhost:8080/",
     "height": 81
    },
    "id": "9e57797c",
    "outputId": "235b842f-8629-4568-ddda-4d02af6d06c5"
   },
   "outputs": [
    {
     "data": {
      "text/html": [
       "<div>\n",
       "<style scoped>\n",
       "    .dataframe tbody tr th:only-of-type {\n",
       "        vertical-align: middle;\n",
       "    }\n",
       "\n",
       "    .dataframe tbody tr th {\n",
       "        vertical-align: top;\n",
       "    }\n",
       "\n",
       "    .dataframe thead th {\n",
       "        text-align: right;\n",
       "    }\n",
       "</style>\n",
       "<table border=\"1\" class=\"dataframe\">\n",
       "  <thead>\n",
       "    <tr style=\"text-align: right;\">\n",
       "      <th></th>\n",
       "      <th>Model</th>\n",
       "      <th>MAE</th>\n",
       "      <th>MSE</th>\n",
       "      <th>RMSE</th>\n",
       "      <th>RSS</th>\n",
       "      <th>r2_score</th>\n",
       "    </tr>\n",
       "  </thead>\n",
       "  <tbody>\n",
       "    <tr>\n",
       "      <th>0</th>\n",
       "      <td>GBR regression</td>\n",
       "      <td>0.090996</td>\n",
       "      <td>0.018369</td>\n",
       "      <td>0.135531</td>\n",
       "      <td>10.341571</td>\n",
       "      <td>0.791815</td>\n",
       "    </tr>\n",
       "  </tbody>\n",
       "</table>\n",
       "</div>"
      ],
      "text/plain": [
       "            Model       MAE       MSE      RMSE        RSS  r2_score\n",
       "0  GBR regression  0.090996  0.018369  0.135531  10.341571  0.791815"
      ]
     },
     "execution_count": 116,
     "metadata": {},
     "output_type": "execute_result"
    }
   ],
   "source": [
    "model_results"
   ]
  },
  {
   "cell_type": "code",
   "execution_count": 117,
   "id": "25e8e9b3",
   "metadata": {
    "colab": {
     "base_uri": "https://localhost:8080/",
     "height": 455
    },
    "id": "25e8e9b3",
    "outputId": "612c3c1e-8261-4aa6-c4f9-1c890bbb27eb"
   },
   "outputs": [
    {
     "data": {
      "text/html": [
       "<div>\n",
       "<style scoped>\n",
       "    .dataframe tbody tr th:only-of-type {\n",
       "        vertical-align: middle;\n",
       "    }\n",
       "\n",
       "    .dataframe tbody tr th {\n",
       "        vertical-align: top;\n",
       "    }\n",
       "\n",
       "    .dataframe thead th {\n",
       "        text-align: right;\n",
       "    }\n",
       "</style>\n",
       "<table border=\"1\" class=\"dataframe\">\n",
       "  <thead>\n",
       "    <tr style=\"text-align: right;\">\n",
       "      <th></th>\n",
       "      <th>actual_values</th>\n",
       "      <th>predictions</th>\n",
       "    </tr>\n",
       "    <tr>\n",
       "      <th>Year</th>\n",
       "      <th></th>\n",
       "      <th></th>\n",
       "    </tr>\n",
       "  </thead>\n",
       "  <tbody>\n",
       "    <tr>\n",
       "      <th>2012</th>\n",
       "      <td>11.181846</td>\n",
       "      <td>47.193455</td>\n",
       "    </tr>\n",
       "    <tr>\n",
       "      <th>2012</th>\n",
       "      <td>51.227025</td>\n",
       "      <td>47.193455</td>\n",
       "    </tr>\n",
       "    <tr>\n",
       "      <th>2012</th>\n",
       "      <td>98.562481</td>\n",
       "      <td>47.193455</td>\n",
       "    </tr>\n",
       "    <tr>\n",
       "      <th>2012</th>\n",
       "      <td>48.742171</td>\n",
       "      <td>47.193455</td>\n",
       "    </tr>\n",
       "    <tr>\n",
       "      <th>2012</th>\n",
       "      <td>29.561557</td>\n",
       "      <td>47.193455</td>\n",
       "    </tr>\n",
       "    <tr>\n",
       "      <th>...</th>\n",
       "      <td>...</td>\n",
       "      <td>...</td>\n",
       "    </tr>\n",
       "    <tr>\n",
       "      <th>2021</th>\n",
       "      <td>88.048054</td>\n",
       "      <td>47.193455</td>\n",
       "    </tr>\n",
       "    <tr>\n",
       "      <th>2021</th>\n",
       "      <td>88.725742</td>\n",
       "      <td>47.193455</td>\n",
       "    </tr>\n",
       "    <tr>\n",
       "      <th>2021</th>\n",
       "      <td>54.307424</td>\n",
       "      <td>47.193455</td>\n",
       "    </tr>\n",
       "    <tr>\n",
       "      <th>2021</th>\n",
       "      <td>73.518842</td>\n",
       "      <td>47.193455</td>\n",
       "    </tr>\n",
       "    <tr>\n",
       "      <th>2021</th>\n",
       "      <td>12.845261</td>\n",
       "      <td>47.193455</td>\n",
       "    </tr>\n",
       "  </tbody>\n",
       "</table>\n",
       "<p>563 rows × 2 columns</p>\n",
       "</div>"
      ],
      "text/plain": [
       "      actual_values  predictions\n",
       "Year                            \n",
       "2012      11.181846    47.193455\n",
       "2012      51.227025    47.193455\n",
       "2012      98.562481    47.193455\n",
       "2012      48.742171    47.193455\n",
       "2012      29.561557    47.193455\n",
       "...             ...          ...\n",
       "2021      88.048054    47.193455\n",
       "2021      88.725742    47.193455\n",
       "2021      54.307424    47.193455\n",
       "2021      73.518842    47.193455\n",
       "2021      12.845261    47.193455\n",
       "\n",
       "[563 rows x 2 columns]"
      ]
     },
     "execution_count": 117,
     "metadata": {},
     "output_type": "execute_result"
    }
   ],
   "source": [
    "Gbr_df = pd.DataFrame(data ={\"actual_values\": y_test * 100, \"predictions\":lasso_predictions * 100})\n",
    "Gbr_df.sort_index(ascending=True, inplace=True)\n",
    "Gbr_df"
   ]
  },
  {
   "cell_type": "code",
   "execution_count": 118,
   "id": "ef2cb84d",
   "metadata": {
    "colab": {
     "base_uri": "https://localhost:8080/",
     "height": 175
    },
    "id": "ef2cb84d",
    "outputId": "a2bcc686-d0c9-4612-b79e-0655af520bd0"
   },
   "outputs": [
    {
     "data": {
      "text/html": [
       "<div>\n",
       "<style scoped>\n",
       "    .dataframe tbody tr th:only-of-type {\n",
       "        vertical-align: middle;\n",
       "    }\n",
       "\n",
       "    .dataframe tbody tr th {\n",
       "        vertical-align: top;\n",
       "    }\n",
       "\n",
       "    .dataframe thead th {\n",
       "        text-align: right;\n",
       "    }\n",
       "</style>\n",
       "<table border=\"1\" class=\"dataframe\">\n",
       "  <thead>\n",
       "    <tr style=\"text-align: right;\">\n",
       "      <th></th>\n",
       "      <th>Model</th>\n",
       "      <th>MAE</th>\n",
       "      <th>MSE</th>\n",
       "      <th>RMSE</th>\n",
       "      <th>RSS</th>\n",
       "      <th>r2_score</th>\n",
       "    </tr>\n",
       "  </thead>\n",
       "  <tbody>\n",
       "    <tr>\n",
       "      <th>0</th>\n",
       "      <td>Linear regression</td>\n",
       "      <td>0.153095</td>\n",
       "      <td>0.038898</td>\n",
       "      <td>0.197225</td>\n",
       "      <td>21.899426</td>\n",
       "      <td>0.559145</td>\n",
       "    </tr>\n",
       "    <tr>\n",
       "      <th>1</th>\n",
       "      <td>Ridge regression</td>\n",
       "      <td>0.153265</td>\n",
       "      <td>0.038952</td>\n",
       "      <td>0.197364</td>\n",
       "      <td>21.930257</td>\n",
       "      <td>0.558524</td>\n",
       "    </tr>\n",
       "    <tr>\n",
       "      <th>2</th>\n",
       "      <td>lasso regression</td>\n",
       "      <td>0.263145</td>\n",
       "      <td>0.088245</td>\n",
       "      <td>0.297061</td>\n",
       "      <td>49.682155</td>\n",
       "      <td>-0.000147</td>\n",
       "    </tr>\n",
       "    <tr>\n",
       "      <th>3</th>\n",
       "      <td>GBR regression</td>\n",
       "      <td>0.091070</td>\n",
       "      <td>0.018378</td>\n",
       "      <td>0.135566</td>\n",
       "      <td>10.346840</td>\n",
       "      <td>0.791709</td>\n",
       "    </tr>\n",
       "  </tbody>\n",
       "</table>\n",
       "</div>"
      ],
      "text/plain": [
       "               Model       MAE       MSE      RMSE        RSS  r2_score\n",
       "0  Linear regression  0.153095  0.038898  0.197225  21.899426  0.559145\n",
       "1   Ridge regression  0.153265  0.038952  0.197364  21.930257  0.558524\n",
       "2   lasso regression  0.263145  0.088245  0.297061  49.682155 -0.000147\n",
       "3     GBR regression  0.091070  0.018378  0.135566  10.346840  0.791709"
      ]
     },
     "execution_count": 118,
     "metadata": {},
     "output_type": "execute_result"
    }
   ],
   "source": [
    "# Printing the stored results of all the three models\n",
    "results.drop_duplicates().head(4)\n"
   ]
  },
  {
   "cell_type": "markdown",
   "id": "f9e38ac9",
   "metadata": {
    "id": "f9e38ac9"
   },
   "source": [
    "### conclusion\n",
    "\n",
    "> Based on the results presented above, it is evident that the Ridge regression model exhibits the most favorable performance. This conclusion is drawn from the fact that the model achieves a mean_absolute_error of 0.1532 which is slightly lower than the linear regression having a mean_absolute error value of 0.1539. This value approaching zero signifies a strong indication of optimal performance within the context of regression modeling.\n",
    "\n",
    "\n",
    "\n",
    "\n"
   ]
  },
  {
   "cell_type": "code",
   "execution_count": 122,
   "id": "fd72233b",
   "metadata": {
    "id": "fd72233b"
   },
   "outputs": [],
   "source": [
    "# creating pickle file for deployment\n",
    "file = open('pickledUpper_Gbr.pkl', 'wb')\n",
    "pickle.dump(Gbr, file)"
   ]
  },
  {
   "cell_type": "code",
   "execution_count": null,
   "id": "WxXM3Umv6BZK",
   "metadata": {
    "id": "WxXM3Umv6BZK"
   },
   "outputs": [],
   "source": []
  }
 ],
 "metadata": {
  "colab": {
   "provenance": []
  },
  "kernelspec": {
   "display_name": "Python 3 (ipykernel)",
   "language": "python",
   "name": "python3"
  },
  "language_info": {
   "codemirror_mode": {
    "name": "ipython",
    "version": 3
   },
   "file_extension": ".py",
   "mimetype": "text/x-python",
   "name": "python",
   "nbconvert_exporter": "python",
   "pygments_lexer": "ipython3",
   "version": "3.10.9"
  }
 },
 "nbformat": 4,
 "nbformat_minor": 5
}
